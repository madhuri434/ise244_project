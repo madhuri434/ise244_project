{
 "cells": [
  {
   "cell_type": "markdown",
   "id": "59e95e40",
   "metadata": {},
   "source": [
    "Forrest Fire Prediction using SVR, Random Forest, and Deep Neural Networks\n",
    "Data Available at: http://archive.ics.uci.edu/ml/datasets/Forest+Fires\n",
    "\n",
    "X - x-axis spatial coordinate within the Montesinho park map: 1 to 9\n",
    "\n",
    "Y - y-axis spatial coordinate within the Montesinho park map: 2 to 9\n",
    "\n",
    "month - month of the year: \"jan\" to \"dec\"\n",
    "\n",
    "day - day of the week: \"mon\" to \"sun\"\n",
    "\n",
    "FFMC - FFMC index from the FWI system: 18.7 to 96.20\n",
    "\n",
    "DMC - DMC index from the FWI system: 1.1 to 291.3\n",
    "\n",
    "DC - DC index from the FWI system: 7.9 to 860.6\n",
    "\n",
    "ISI - ISI index from the FWI system: 0.0 to 56.10\n",
    "\n",
    "temp - temperature in Celsius degrees: 2.2 to 33.30\n",
    "\n",
    "RH - relative humidity in %: 15.0 to 100\n",
    "\n",
    "wind - wind speed in km/h: 0.40 to 9.40\n",
    "\n",
    "rain - outside rain in mm/m2 : 0.0 to 6.4\n",
    "\n",
    "area - the burned area of the forest (in ha): 0.00 to 1090.84\n",
    "\n",
    "Refrences: \n",
    "1. https://github.com/Sagnik220/Forest-Fire-Prediction/blob/main/Notebooks/ForestFire_PyCARET.ipynb\n",
    "2. https://github.com/maxpeng041/wildfire-prediction/blob/master/wildfire-analysis.ipynb \n",
    "        \n"
   ]
  },
  {
   "cell_type": "code",
   "execution_count": 1,
   "id": "d859b756",
   "metadata": {},
   "outputs": [
    {
     "data": {
      "text/html": [
       "<style>.container { width:90% !important; }</style>"
      ],
      "text/plain": [
       "<IPython.core.display.HTML object>"
      ]
     },
     "metadata": {},
     "output_type": "display_data"
    }
   ],
   "source": [
    "import pandas as pd\n",
    "from warnings import simplefilter\n",
    "simplefilter(action='ignore', category=FutureWarning)\n",
    "\n",
    "import pandas as pd\n",
    "import numpy as np\n",
    "import matplotlib.pyplot as plt\n",
    "import seaborn as sns\n",
    "import sqlite3\n",
    "\n",
    "from statistics import mean \n",
    "\n",
    "from sklearn.utils import resample\n",
    "from sklearn.model_selection import train_test_split\n",
    "from sklearn.tree import DecisionTreeClassifier\n",
    "from sklearn.ensemble import RandomForestClassifier\n",
    "from sklearn.ensemble import GradientBoostingClassifier\n",
    "from sklearn.svm import SVC\n",
    "from sklearn.neighbors import KNeighborsClassifier\n",
    "from sklearn import metrics\n",
    "from sklearn.model_selection import GridSearchCV\n",
    "from sklearn.model_selection import RandomizedSearchCV\n",
    "\n",
    "from xgboost import XGBClassifier\n",
    "\n",
    "pd.set_option('display.max_columns', None)\n",
    "pd.set_option('display.max_rows', None)\n",
    "\n",
    "from IPython.core.display import display, HTML\n",
    "display(HTML(\"<style>.container { width:90% !important; }</style>\"))"
   ]
  },
  {
   "cell_type": "code",
   "execution_count": 84,
   "id": "64ec4afb",
   "metadata": {},
   "outputs": [],
   "source": [
    "data = pd.read_csv('forestfires.csv')"
   ]
  },
  {
   "cell_type": "code",
   "execution_count": 115,
   "id": "078ced7e",
   "metadata": {},
   "outputs": [
    {
     "data": {
      "text/html": [
       "<div>\n",
       "<style scoped>\n",
       "    .dataframe tbody tr th:only-of-type {\n",
       "        vertical-align: middle;\n",
       "    }\n",
       "\n",
       "    .dataframe tbody tr th {\n",
       "        vertical-align: top;\n",
       "    }\n",
       "\n",
       "    .dataframe thead th {\n",
       "        text-align: right;\n",
       "    }\n",
       "</style>\n",
       "<table border=\"1\" class=\"dataframe\">\n",
       "  <thead>\n",
       "    <tr style=\"text-align: right;\">\n",
       "      <th></th>\n",
       "      <th>X</th>\n",
       "      <th>Y</th>\n",
       "      <th>month</th>\n",
       "      <th>day</th>\n",
       "      <th>FFMC</th>\n",
       "      <th>DMC</th>\n",
       "      <th>DC</th>\n",
       "      <th>ISI</th>\n",
       "      <th>temp</th>\n",
       "      <th>RH</th>\n",
       "      <th>wind</th>\n",
       "      <th>rain</th>\n",
       "      <th>area</th>\n",
       "    </tr>\n",
       "  </thead>\n",
       "  <tbody>\n",
       "    <tr>\n",
       "      <th>0</th>\n",
       "      <td>7</td>\n",
       "      <td>5</td>\n",
       "      <td>mar</td>\n",
       "      <td>fri</td>\n",
       "      <td>86.2</td>\n",
       "      <td>26.2</td>\n",
       "      <td>94.3</td>\n",
       "      <td>5.1</td>\n",
       "      <td>8.2</td>\n",
       "      <td>51</td>\n",
       "      <td>6.7</td>\n",
       "      <td>0.0</td>\n",
       "      <td>0.0</td>\n",
       "    </tr>\n",
       "    <tr>\n",
       "      <th>1</th>\n",
       "      <td>7</td>\n",
       "      <td>4</td>\n",
       "      <td>oct</td>\n",
       "      <td>tue</td>\n",
       "      <td>90.6</td>\n",
       "      <td>35.4</td>\n",
       "      <td>669.1</td>\n",
       "      <td>6.7</td>\n",
       "      <td>18.0</td>\n",
       "      <td>33</td>\n",
       "      <td>0.9</td>\n",
       "      <td>0.0</td>\n",
       "      <td>0.0</td>\n",
       "    </tr>\n",
       "    <tr>\n",
       "      <th>2</th>\n",
       "      <td>7</td>\n",
       "      <td>4</td>\n",
       "      <td>oct</td>\n",
       "      <td>sat</td>\n",
       "      <td>90.6</td>\n",
       "      <td>43.7</td>\n",
       "      <td>686.9</td>\n",
       "      <td>6.7</td>\n",
       "      <td>14.6</td>\n",
       "      <td>33</td>\n",
       "      <td>1.3</td>\n",
       "      <td>0.0</td>\n",
       "      <td>0.0</td>\n",
       "    </tr>\n",
       "    <tr>\n",
       "      <th>3</th>\n",
       "      <td>8</td>\n",
       "      <td>6</td>\n",
       "      <td>mar</td>\n",
       "      <td>fri</td>\n",
       "      <td>91.7</td>\n",
       "      <td>33.3</td>\n",
       "      <td>77.5</td>\n",
       "      <td>9.0</td>\n",
       "      <td>8.3</td>\n",
       "      <td>97</td>\n",
       "      <td>4.0</td>\n",
       "      <td>0.2</td>\n",
       "      <td>0.0</td>\n",
       "    </tr>\n",
       "    <tr>\n",
       "      <th>4</th>\n",
       "      <td>8</td>\n",
       "      <td>6</td>\n",
       "      <td>mar</td>\n",
       "      <td>sun</td>\n",
       "      <td>89.3</td>\n",
       "      <td>51.3</td>\n",
       "      <td>102.2</td>\n",
       "      <td>9.6</td>\n",
       "      <td>11.4</td>\n",
       "      <td>99</td>\n",
       "      <td>1.8</td>\n",
       "      <td>0.0</td>\n",
       "      <td>0.0</td>\n",
       "    </tr>\n",
       "    <tr>\n",
       "      <th>5</th>\n",
       "      <td>8</td>\n",
       "      <td>6</td>\n",
       "      <td>aug</td>\n",
       "      <td>sun</td>\n",
       "      <td>92.3</td>\n",
       "      <td>85.3</td>\n",
       "      <td>488.0</td>\n",
       "      <td>14.7</td>\n",
       "      <td>22.2</td>\n",
       "      <td>29</td>\n",
       "      <td>5.4</td>\n",
       "      <td>0.0</td>\n",
       "      <td>0.0</td>\n",
       "    </tr>\n",
       "    <tr>\n",
       "      <th>6</th>\n",
       "      <td>8</td>\n",
       "      <td>6</td>\n",
       "      <td>aug</td>\n",
       "      <td>mon</td>\n",
       "      <td>92.3</td>\n",
       "      <td>88.9</td>\n",
       "      <td>495.6</td>\n",
       "      <td>8.5</td>\n",
       "      <td>24.1</td>\n",
       "      <td>27</td>\n",
       "      <td>3.1</td>\n",
       "      <td>0.0</td>\n",
       "      <td>0.0</td>\n",
       "    </tr>\n",
       "    <tr>\n",
       "      <th>7</th>\n",
       "      <td>8</td>\n",
       "      <td>6</td>\n",
       "      <td>aug</td>\n",
       "      <td>mon</td>\n",
       "      <td>91.5</td>\n",
       "      <td>145.4</td>\n",
       "      <td>608.2</td>\n",
       "      <td>10.7</td>\n",
       "      <td>8.0</td>\n",
       "      <td>86</td>\n",
       "      <td>2.2</td>\n",
       "      <td>0.0</td>\n",
       "      <td>0.0</td>\n",
       "    </tr>\n",
       "    <tr>\n",
       "      <th>8</th>\n",
       "      <td>8</td>\n",
       "      <td>6</td>\n",
       "      <td>sep</td>\n",
       "      <td>tue</td>\n",
       "      <td>91.0</td>\n",
       "      <td>129.5</td>\n",
       "      <td>692.6</td>\n",
       "      <td>7.0</td>\n",
       "      <td>13.1</td>\n",
       "      <td>63</td>\n",
       "      <td>5.4</td>\n",
       "      <td>0.0</td>\n",
       "      <td>0.0</td>\n",
       "    </tr>\n",
       "    <tr>\n",
       "      <th>9</th>\n",
       "      <td>7</td>\n",
       "      <td>5</td>\n",
       "      <td>sep</td>\n",
       "      <td>sat</td>\n",
       "      <td>92.5</td>\n",
       "      <td>88.0</td>\n",
       "      <td>698.6</td>\n",
       "      <td>7.1</td>\n",
       "      <td>22.8</td>\n",
       "      <td>40</td>\n",
       "      <td>4.0</td>\n",
       "      <td>0.0</td>\n",
       "      <td>0.0</td>\n",
       "    </tr>\n",
       "  </tbody>\n",
       "</table>\n",
       "</div>"
      ],
      "text/plain": [
       "   X  Y month  day  FFMC    DMC     DC   ISI  temp  RH  wind  rain  area\n",
       "0  7  5   mar  fri  86.2   26.2   94.3   5.1   8.2  51   6.7   0.0   0.0\n",
       "1  7  4   oct  tue  90.6   35.4  669.1   6.7  18.0  33   0.9   0.0   0.0\n",
       "2  7  4   oct  sat  90.6   43.7  686.9   6.7  14.6  33   1.3   0.0   0.0\n",
       "3  8  6   mar  fri  91.7   33.3   77.5   9.0   8.3  97   4.0   0.2   0.0\n",
       "4  8  6   mar  sun  89.3   51.3  102.2   9.6  11.4  99   1.8   0.0   0.0\n",
       "5  8  6   aug  sun  92.3   85.3  488.0  14.7  22.2  29   5.4   0.0   0.0\n",
       "6  8  6   aug  mon  92.3   88.9  495.6   8.5  24.1  27   3.1   0.0   0.0\n",
       "7  8  6   aug  mon  91.5  145.4  608.2  10.7   8.0  86   2.2   0.0   0.0\n",
       "8  8  6   sep  tue  91.0  129.5  692.6   7.0  13.1  63   5.4   0.0   0.0\n",
       "9  7  5   sep  sat  92.5   88.0  698.6   7.1  22.8  40   4.0   0.0   0.0"
      ]
     },
     "execution_count": 115,
     "metadata": {},
     "output_type": "execute_result"
    }
   ],
   "source": [
    "data.head(10)"
   ]
  },
  {
   "cell_type": "code",
   "execution_count": 113,
   "id": "531bc7a9",
   "metadata": {},
   "outputs": [
    {
     "data": {
      "text/plain": [
       "array(['fri', 'tue', 'sat', 'sun', 'mon', 'wed', 'thu'], dtype=object)"
      ]
     },
     "execution_count": 113,
     "metadata": {},
     "output_type": "execute_result"
    }
   ],
   "source": [
    "data['day'].unique()"
   ]
  },
  {
   "cell_type": "code",
   "execution_count": 114,
   "id": "1849ffa9",
   "metadata": {},
   "outputs": [
    {
     "data": {
      "text/plain": [
       "array(['mar', 'oct', 'aug', 'sep', 'apr', 'jun', 'jul', 'feb', 'jan',\n",
       "       'dec', 'may', 'nov'], dtype=object)"
      ]
     },
     "execution_count": 114,
     "metadata": {},
     "output_type": "execute_result"
    }
   ],
   "source": [
    "data['month'].unique()"
   ]
  },
  {
   "cell_type": "code",
   "execution_count": 7,
   "id": "49098eba",
   "metadata": {},
   "outputs": [
    {
     "data": {
      "text/plain": [
       "<bound method Series.count of 0         0.00\n",
       "1         0.00\n",
       "2         0.00\n",
       "3         0.00\n",
       "4         0.00\n",
       "5         0.00\n",
       "6         0.00\n",
       "7         0.00\n",
       "8         0.00\n",
       "9         0.00\n",
       "10        0.00\n",
       "11        0.00\n",
       "12        0.00\n",
       "13        0.00\n",
       "14        0.00\n",
       "15        0.00\n",
       "16        0.00\n",
       "17        0.00\n",
       "18        0.00\n",
       "19        0.00\n",
       "20        0.00\n",
       "21        0.00\n",
       "22        0.00\n",
       "23        0.00\n",
       "24        0.00\n",
       "25        0.00\n",
       "26        0.00\n",
       "27        0.00\n",
       "28        0.00\n",
       "29        0.00\n",
       "30        0.00\n",
       "31        0.00\n",
       "32        0.00\n",
       "33        0.00\n",
       "34        0.00\n",
       "35        0.00\n",
       "36        0.00\n",
       "37        0.00\n",
       "38        0.00\n",
       "39        0.00\n",
       "40        0.00\n",
       "41        0.00\n",
       "42        0.00\n",
       "43        0.00\n",
       "44        0.00\n",
       "45        0.00\n",
       "46        0.00\n",
       "47        0.00\n",
       "48        0.00\n",
       "49        0.00\n",
       "50        0.00\n",
       "51        0.00\n",
       "52        0.00\n",
       "53        0.00\n",
       "54        0.00\n",
       "55        0.00\n",
       "56        0.00\n",
       "57        0.00\n",
       "58        0.00\n",
       "59        0.00\n",
       "60        0.00\n",
       "61        0.00\n",
       "62        0.00\n",
       "63        0.00\n",
       "64        0.00\n",
       "65        0.00\n",
       "66        0.00\n",
       "67        0.00\n",
       "68        0.00\n",
       "69        0.00\n",
       "70        0.00\n",
       "71        0.00\n",
       "72        0.00\n",
       "73        0.00\n",
       "74        0.00\n",
       "75        0.00\n",
       "76        0.00\n",
       "77        0.00\n",
       "78        0.00\n",
       "79        0.00\n",
       "80        0.00\n",
       "81        0.00\n",
       "82        0.00\n",
       "83        0.00\n",
       "84        0.00\n",
       "85        0.00\n",
       "86        0.00\n",
       "87        0.00\n",
       "88        0.00\n",
       "89        0.00\n",
       "90        0.00\n",
       "91        0.00\n",
       "92        0.00\n",
       "93        0.00\n",
       "94        0.00\n",
       "95        0.00\n",
       "96        0.00\n",
       "97        0.00\n",
       "98        0.00\n",
       "99        0.00\n",
       "100       0.00\n",
       "101       0.00\n",
       "102       0.00\n",
       "103       0.00\n",
       "104       0.00\n",
       "105       0.00\n",
       "106       0.00\n",
       "107       0.00\n",
       "108       0.00\n",
       "109       0.00\n",
       "110       0.00\n",
       "111       0.00\n",
       "112       0.00\n",
       "113       0.00\n",
       "114       0.00\n",
       "115       0.00\n",
       "116       0.00\n",
       "117       0.00\n",
       "118       0.00\n",
       "119       0.00\n",
       "120       0.00\n",
       "121       0.00\n",
       "122       0.00\n",
       "123       0.00\n",
       "124       0.00\n",
       "125       0.00\n",
       "126       0.00\n",
       "127       0.00\n",
       "128       0.00\n",
       "129       0.00\n",
       "130       0.00\n",
       "131       0.00\n",
       "132       0.00\n",
       "133       0.00\n",
       "134       0.00\n",
       "135       0.00\n",
       "136       0.00\n",
       "137       0.00\n",
       "138       0.36\n",
       "139       0.43\n",
       "140       0.47\n",
       "141       0.55\n",
       "142       0.61\n",
       "143       0.71\n",
       "144       0.77\n",
       "145       0.90\n",
       "146       0.95\n",
       "147       0.96\n",
       "148       1.07\n",
       "149       1.12\n",
       "150       1.19\n",
       "151       1.36\n",
       "152       1.43\n",
       "153       1.46\n",
       "154       1.46\n",
       "155       1.56\n",
       "156       1.61\n",
       "157       1.63\n",
       "158       1.64\n",
       "159       1.69\n",
       "160       1.75\n",
       "161       1.90\n",
       "162       1.94\n",
       "163       1.95\n",
       "164       2.01\n",
       "165       2.14\n",
       "166       2.29\n",
       "167       2.51\n",
       "168       2.53\n",
       "169       2.55\n",
       "170       2.57\n",
       "171       2.69\n",
       "172       2.74\n",
       "173       3.07\n",
       "174       3.50\n",
       "175       4.53\n",
       "176       4.61\n",
       "177       4.69\n",
       "178       4.88\n",
       "179       5.23\n",
       "180       5.33\n",
       "181       5.44\n",
       "182       6.38\n",
       "183       6.83\n",
       "184       6.96\n",
       "185       7.04\n",
       "186       7.19\n",
       "187       7.30\n",
       "188       7.40\n",
       "189       8.24\n",
       "190       8.31\n",
       "191       8.68\n",
       "192       8.71\n",
       "193       9.41\n",
       "194      10.01\n",
       "195      10.02\n",
       "196      10.93\n",
       "197      11.06\n",
       "198      11.24\n",
       "199      11.32\n",
       "200      11.53\n",
       "201      12.10\n",
       "202      13.05\n",
       "203      13.70\n",
       "204      13.99\n",
       "205      14.57\n",
       "206      15.45\n",
       "207      17.20\n",
       "208      19.23\n",
       "209      23.41\n",
       "210      24.23\n",
       "211      26.00\n",
       "212      26.13\n",
       "213      27.35\n",
       "214      28.66\n",
       "215      28.66\n",
       "216      29.48\n",
       "217      30.32\n",
       "218      31.72\n",
       "219      31.86\n",
       "220      32.07\n",
       "221      35.88\n",
       "222      36.85\n",
       "223      37.02\n",
       "224      37.71\n",
       "225      48.55\n",
       "226      49.37\n",
       "227      58.30\n",
       "228      64.10\n",
       "229      71.30\n",
       "230      88.49\n",
       "231      95.18\n",
       "232     103.39\n",
       "233     105.66\n",
       "234     154.88\n",
       "235     196.48\n",
       "236     200.94\n",
       "237     212.88\n",
       "238    1090.84\n",
       "239       0.00\n",
       "240       0.00\n",
       "241       0.00\n",
       "242      10.13\n",
       "243       0.00\n",
       "244       2.87\n",
       "245       0.76\n",
       "246       0.09\n",
       "247       0.75\n",
       "248       0.00\n",
       "249       2.47\n",
       "250       0.68\n",
       "251       0.24\n",
       "252       0.21\n",
       "253       1.52\n",
       "254      10.34\n",
       "255       0.00\n",
       "256       8.02\n",
       "257       0.68\n",
       "258       0.00\n",
       "259       1.38\n",
       "260       8.85\n",
       "261       3.30\n",
       "262       4.25\n",
       "263       1.56\n",
       "264       6.54\n",
       "265       0.79\n",
       "266       0.17\n",
       "267       0.00\n",
       "268       0.00\n",
       "269       4.40\n",
       "270       0.52\n",
       "271       9.27\n",
       "272       3.09\n",
       "273       8.98\n",
       "274      11.19\n",
       "275       5.38\n",
       "276      17.85\n",
       "277      10.73\n",
       "278      22.03\n",
       "279       9.77\n",
       "280       9.27\n",
       "281      24.77\n",
       "282       0.00\n",
       "283       1.10\n",
       "284      24.24\n",
       "285       0.00\n",
       "286       0.00\n",
       "287       0.00\n",
       "288       0.00\n",
       "289       0.00\n",
       "290       0.00\n",
       "291       8.00\n",
       "292       2.64\n",
       "293      86.45\n",
       "294       6.57\n",
       "295       0.00\n",
       "296       0.90\n",
       "297       0.00\n",
       "298       0.00\n",
       "299       0.00\n",
       "300       0.00\n",
       "301       3.52\n",
       "302       0.00\n",
       "303       0.00\n",
       "304       0.00\n",
       "305       0.00\n",
       "306       0.41\n",
       "307       5.18\n",
       "308       0.00\n",
       "309       0.00\n",
       "310       0.00\n",
       "311      14.29\n",
       "312       0.00\n",
       "313       0.00\n",
       "314       1.58\n",
       "315       0.00\n",
       "316       0.00\n",
       "317       3.78\n",
       "318       0.00\n",
       "319       4.41\n",
       "320      34.36\n",
       "321       7.21\n",
       "322       1.01\n",
       "323       2.18\n",
       "324       4.42\n",
       "325       0.00\n",
       "326       0.00\n",
       "327       0.00\n",
       "328       0.00\n",
       "329       3.33\n",
       "330       6.58\n",
       "331      15.64\n",
       "332      11.22\n",
       "333       2.13\n",
       "334       0.00\n",
       "335       0.00\n",
       "336       0.00\n",
       "337      56.04\n",
       "338       7.48\n",
       "339       1.47\n",
       "340       3.93\n",
       "341       0.00\n",
       "342       0.00\n",
       "343       2.18\n",
       "344       6.10\n",
       "345       5.83\n",
       "346      28.19\n",
       "347       0.00\n",
       "348       0.00\n",
       "349       1.64\n",
       "350       3.71\n",
       "351       7.31\n",
       "352       2.03\n",
       "353       1.72\n",
       "354       5.97\n",
       "355      13.06\n",
       "356       1.26\n",
       "357       0.00\n",
       "358       0.00\n",
       "359       8.12\n",
       "360       1.09\n",
       "361       3.94\n",
       "362       0.52\n",
       "363       2.93\n",
       "364       5.65\n",
       "365      20.03\n",
       "366       1.75\n",
       "367       0.00\n",
       "368      12.64\n",
       "369       0.00\n",
       "370      11.06\n",
       "371       0.00\n",
       "372       0.00\n",
       "373       0.00\n",
       "374      18.30\n",
       "375      39.35\n",
       "376       0.00\n",
       "377     174.63\n",
       "378       0.00\n",
       "379       0.00\n",
       "380       7.73\n",
       "381      16.33\n",
       "382       5.86\n",
       "383      42.87\n",
       "384      12.18\n",
       "385      16.00\n",
       "386      24.59\n",
       "387       0.00\n",
       "388      28.74\n",
       "389       0.00\n",
       "390       9.96\n",
       "391      30.18\n",
       "392      70.76\n",
       "393       0.00\n",
       "394       0.00\n",
       "395      51.78\n",
       "396       3.64\n",
       "397       3.63\n",
       "398       0.00\n",
       "399       0.00\n",
       "400       8.16\n",
       "401       4.95\n",
       "402       0.00\n",
       "403       0.00\n",
       "404       6.04\n",
       "405       0.00\n",
       "406       3.95\n",
       "407       0.00\n",
       "408       7.80\n",
       "409       0.00\n",
       "410       0.00\n",
       "411       4.62\n",
       "412       1.63\n",
       "413       0.00\n",
       "414       0.00\n",
       "415     746.28\n",
       "416       7.02\n",
       "417       0.00\n",
       "418       2.44\n",
       "419       3.05\n",
       "420     185.76\n",
       "421       0.00\n",
       "422       6.30\n",
       "423       0.72\n",
       "424       4.96\n",
       "425       0.00\n",
       "426       0.00\n",
       "427       2.35\n",
       "428       0.00\n",
       "429       3.20\n",
       "430       0.00\n",
       "431       6.36\n",
       "432       0.00\n",
       "433      15.34\n",
       "434       0.00\n",
       "435       0.00\n",
       "436       0.54\n",
       "437       0.00\n",
       "438       6.43\n",
       "439       0.33\n",
       "440       0.00\n",
       "441       1.23\n",
       "442       3.35\n",
       "443       0.00\n",
       "444       9.96\n",
       "445       0.00\n",
       "446       0.00\n",
       "447       0.00\n",
       "448       0.00\n",
       "449       0.00\n",
       "450       6.43\n",
       "451       9.71\n",
       "452       0.00\n",
       "453       0.00\n",
       "454       0.00\n",
       "455       0.00\n",
       "456       0.00\n",
       "457      82.75\n",
       "458       3.32\n",
       "459       1.94\n",
       "460       0.00\n",
       "461       0.00\n",
       "462       3.71\n",
       "463       5.39\n",
       "464       2.14\n",
       "465       6.84\n",
       "466       3.18\n",
       "467       5.55\n",
       "468       6.61\n",
       "469      61.13\n",
       "470       0.00\n",
       "471      38.48\n",
       "472       1.94\n",
       "473      70.32\n",
       "474      10.08\n",
       "475       3.19\n",
       "476       1.76\n",
       "477       7.36\n",
       "478       2.21\n",
       "479     278.53\n",
       "480       2.75\n",
       "481       0.00\n",
       "482       1.29\n",
       "483       0.00\n",
       "484      26.43\n",
       "485       2.07\n",
       "486       2.00\n",
       "487      16.40\n",
       "488      46.70\n",
       "489       0.00\n",
       "490       0.00\n",
       "491       0.00\n",
       "492       0.00\n",
       "493      43.32\n",
       "494       8.59\n",
       "495       0.00\n",
       "496       2.77\n",
       "497      14.68\n",
       "498      40.54\n",
       "499      10.82\n",
       "500       0.00\n",
       "501       0.00\n",
       "502       0.00\n",
       "503       1.95\n",
       "504      49.59\n",
       "505       5.80\n",
       "506       0.00\n",
       "507       0.00\n",
       "508       0.00\n",
       "509       2.17\n",
       "510       0.43\n",
       "511       0.00\n",
       "512       6.44\n",
       "513      54.29\n",
       "514      11.16\n",
       "515       0.00\n",
       "516       0.00\n",
       "Name: area, dtype: float64>"
      ]
     },
     "execution_count": 7,
     "metadata": {},
     "output_type": "execute_result"
    }
   ],
   "source": [
    "data['area'].count"
   ]
  },
  {
   "cell_type": "code",
   "execution_count": 86,
   "id": "97297455",
   "metadata": {},
   "outputs": [
    {
     "name": "stdout",
     "output_type": "stream",
     "text": [
      "<class 'pandas.core.frame.DataFrame'>\n",
      "RangeIndex: 517 entries, 0 to 516\n",
      "Data columns (total 13 columns):\n",
      " #   Column  Non-Null Count  Dtype  \n",
      "---  ------  --------------  -----  \n",
      " 0   X       517 non-null    int64  \n",
      " 1   Y       517 non-null    int64  \n",
      " 2   month   517 non-null    object \n",
      " 3   day     517 non-null    object \n",
      " 4   FFMC    517 non-null    float64\n",
      " 5   DMC     517 non-null    float64\n",
      " 6   DC      517 non-null    float64\n",
      " 7   ISI     517 non-null    float64\n",
      " 8   temp    517 non-null    float64\n",
      " 9   RH      517 non-null    int64  \n",
      " 10  wind    517 non-null    float64\n",
      " 11  rain    517 non-null    float64\n",
      " 12  area    517 non-null    float64\n",
      "dtypes: float64(8), int64(3), object(2)\n",
      "memory usage: 52.6+ KB\n"
     ]
    }
   ],
   "source": [
    "data.info()"
   ]
  },
  {
   "cell_type": "code",
   "execution_count": 5,
   "id": "8ed2198f",
   "metadata": {},
   "outputs": [
    {
     "data": {
      "text/html": [
       "<div>\n",
       "<style scoped>\n",
       "    .dataframe tbody tr th:only-of-type {\n",
       "        vertical-align: middle;\n",
       "    }\n",
       "\n",
       "    .dataframe tbody tr th {\n",
       "        vertical-align: top;\n",
       "    }\n",
       "\n",
       "    .dataframe thead th {\n",
       "        text-align: right;\n",
       "    }\n",
       "</style>\n",
       "<table border=\"1\" class=\"dataframe\">\n",
       "  <thead>\n",
       "    <tr style=\"text-align: right;\">\n",
       "      <th></th>\n",
       "      <th>X</th>\n",
       "      <th>Y</th>\n",
       "      <th>FFMC</th>\n",
       "      <th>DMC</th>\n",
       "      <th>DC</th>\n",
       "      <th>ISI</th>\n",
       "      <th>temp</th>\n",
       "      <th>RH</th>\n",
       "      <th>wind</th>\n",
       "      <th>rain</th>\n",
       "      <th>area</th>\n",
       "    </tr>\n",
       "  </thead>\n",
       "  <tbody>\n",
       "    <tr>\n",
       "      <th>count</th>\n",
       "      <td>517.000000</td>\n",
       "      <td>517.000000</td>\n",
       "      <td>517.000000</td>\n",
       "      <td>517.000000</td>\n",
       "      <td>517.000000</td>\n",
       "      <td>517.000000</td>\n",
       "      <td>517.000000</td>\n",
       "      <td>517.000000</td>\n",
       "      <td>517.000000</td>\n",
       "      <td>517.000000</td>\n",
       "      <td>517.000000</td>\n",
       "    </tr>\n",
       "    <tr>\n",
       "      <th>mean</th>\n",
       "      <td>4.669246</td>\n",
       "      <td>4.299807</td>\n",
       "      <td>90.644681</td>\n",
       "      <td>110.872340</td>\n",
       "      <td>547.940039</td>\n",
       "      <td>9.021663</td>\n",
       "      <td>18.889168</td>\n",
       "      <td>44.288201</td>\n",
       "      <td>4.017602</td>\n",
       "      <td>0.021663</td>\n",
       "      <td>12.847292</td>\n",
       "    </tr>\n",
       "    <tr>\n",
       "      <th>std</th>\n",
       "      <td>2.313778</td>\n",
       "      <td>1.229900</td>\n",
       "      <td>5.520111</td>\n",
       "      <td>64.046482</td>\n",
       "      <td>248.066192</td>\n",
       "      <td>4.559477</td>\n",
       "      <td>5.806625</td>\n",
       "      <td>16.317469</td>\n",
       "      <td>1.791653</td>\n",
       "      <td>0.295959</td>\n",
       "      <td>63.655818</td>\n",
       "    </tr>\n",
       "    <tr>\n",
       "      <th>min</th>\n",
       "      <td>1.000000</td>\n",
       "      <td>2.000000</td>\n",
       "      <td>18.700000</td>\n",
       "      <td>1.100000</td>\n",
       "      <td>7.900000</td>\n",
       "      <td>0.000000</td>\n",
       "      <td>2.200000</td>\n",
       "      <td>15.000000</td>\n",
       "      <td>0.400000</td>\n",
       "      <td>0.000000</td>\n",
       "      <td>0.000000</td>\n",
       "    </tr>\n",
       "    <tr>\n",
       "      <th>25%</th>\n",
       "      <td>3.000000</td>\n",
       "      <td>4.000000</td>\n",
       "      <td>90.200000</td>\n",
       "      <td>68.600000</td>\n",
       "      <td>437.700000</td>\n",
       "      <td>6.500000</td>\n",
       "      <td>15.500000</td>\n",
       "      <td>33.000000</td>\n",
       "      <td>2.700000</td>\n",
       "      <td>0.000000</td>\n",
       "      <td>0.000000</td>\n",
       "    </tr>\n",
       "    <tr>\n",
       "      <th>50%</th>\n",
       "      <td>4.000000</td>\n",
       "      <td>4.000000</td>\n",
       "      <td>91.600000</td>\n",
       "      <td>108.300000</td>\n",
       "      <td>664.200000</td>\n",
       "      <td>8.400000</td>\n",
       "      <td>19.300000</td>\n",
       "      <td>42.000000</td>\n",
       "      <td>4.000000</td>\n",
       "      <td>0.000000</td>\n",
       "      <td>0.520000</td>\n",
       "    </tr>\n",
       "    <tr>\n",
       "      <th>75%</th>\n",
       "      <td>7.000000</td>\n",
       "      <td>5.000000</td>\n",
       "      <td>92.900000</td>\n",
       "      <td>142.400000</td>\n",
       "      <td>713.900000</td>\n",
       "      <td>10.800000</td>\n",
       "      <td>22.800000</td>\n",
       "      <td>53.000000</td>\n",
       "      <td>4.900000</td>\n",
       "      <td>0.000000</td>\n",
       "      <td>6.570000</td>\n",
       "    </tr>\n",
       "    <tr>\n",
       "      <th>max</th>\n",
       "      <td>9.000000</td>\n",
       "      <td>9.000000</td>\n",
       "      <td>96.200000</td>\n",
       "      <td>291.300000</td>\n",
       "      <td>860.600000</td>\n",
       "      <td>56.100000</td>\n",
       "      <td>33.300000</td>\n",
       "      <td>100.000000</td>\n",
       "      <td>9.400000</td>\n",
       "      <td>6.400000</td>\n",
       "      <td>1090.840000</td>\n",
       "    </tr>\n",
       "  </tbody>\n",
       "</table>\n",
       "</div>"
      ],
      "text/plain": [
       "                X           Y        FFMC         DMC          DC         ISI  \\\n",
       "count  517.000000  517.000000  517.000000  517.000000  517.000000  517.000000   \n",
       "mean     4.669246    4.299807   90.644681  110.872340  547.940039    9.021663   \n",
       "std      2.313778    1.229900    5.520111   64.046482  248.066192    4.559477   \n",
       "min      1.000000    2.000000   18.700000    1.100000    7.900000    0.000000   \n",
       "25%      3.000000    4.000000   90.200000   68.600000  437.700000    6.500000   \n",
       "50%      4.000000    4.000000   91.600000  108.300000  664.200000    8.400000   \n",
       "75%      7.000000    5.000000   92.900000  142.400000  713.900000   10.800000   \n",
       "max      9.000000    9.000000   96.200000  291.300000  860.600000   56.100000   \n",
       "\n",
       "             temp          RH        wind        rain         area  \n",
       "count  517.000000  517.000000  517.000000  517.000000   517.000000  \n",
       "mean    18.889168   44.288201    4.017602    0.021663    12.847292  \n",
       "std      5.806625   16.317469    1.791653    0.295959    63.655818  \n",
       "min      2.200000   15.000000    0.400000    0.000000     0.000000  \n",
       "25%     15.500000   33.000000    2.700000    0.000000     0.000000  \n",
       "50%     19.300000   42.000000    4.000000    0.000000     0.520000  \n",
       "75%     22.800000   53.000000    4.900000    0.000000     6.570000  \n",
       "max     33.300000  100.000000    9.400000    6.400000  1090.840000  "
      ]
     },
     "execution_count": 5,
     "metadata": {},
     "output_type": "execute_result"
    }
   ],
   "source": [
    "data.describe()"
   ]
  },
  {
   "cell_type": "markdown",
   "id": "f0b37cae",
   "metadata": {},
   "source": [
    "# Preprocessing"
   ]
  },
  {
   "cell_type": "markdown",
   "id": "5204ee11",
   "metadata": {},
   "source": [
    "Text data included with the numeric data(Month & Days). So we need to encode that in some numeric form before splitting the train test data."
   ]
  },
  {
   "cell_type": "code",
   "execution_count": 116,
   "id": "58fa86db",
   "metadata": {},
   "outputs": [],
   "source": [
    "def ordinal_encoding(data,column,ordering):\n",
    "    data=data.copy()\n",
    "    data[column]=data[column].apply(lambda x: ordering.index(x))\n",
    "    return data"
   ]
  },
  {
   "cell_type": "code",
   "execution_count": 117,
   "id": "d7fd09a9",
   "metadata": {},
   "outputs": [],
   "source": [
    "def preprocessing(data,task):\n",
    "  data=data.copy()\n",
    "  data=ordinal_encoding(\n",
    "      data,\n",
    "      column='month',\n",
    "      ordering=[\n",
    "                 'jan', 'feb', 'mar', 'apr', 'may', 'jun', 'jul', 'aug', 'sep',\n",
    "       'oct', 'nov', 'dec'\n",
    "       ]\n",
    "  )\n",
    "  data=ordinal_encoding(\n",
    "      data,\n",
    "      column='day',\n",
    "      ordering=['mon', 'tue', 'wed', 'thu', 'fri', 'sat', 'sun']\n",
    "  )\n",
    "  if task=='Regression':\n",
    "    Y=data['area']\n",
    "  elif task=='Classification':\n",
    "    Y=data['area'].apply(lambda x: 1 if x>0 else 0)\n",
    "\n",
    "  X=data.drop('area',axis=1)\n",
    "\n",
    "  X_train,X_test,Y_train,Y_test=train_test_split(X,Y,train_size=0.65,shuffle=True,random_state=1)\n",
    "\n",
    "  scaler=StandardScaler()\n",
    "  scaler.fit(X_train)\n",
    "\n",
    "  X_train=pd.DataFrame(scaler.transform(X_train),columns=X.columns)\n",
    "  X_test=pd.DataFrame(scaler.transform(X_test),columns=X.columns)\n",
    "\n",
    "  return X_train,X_test,Y_train,Y_test"
   ]
  },
  {
   "cell_type": "markdown",
   "id": "7d1a021f",
   "metadata": {},
   "source": [
    "# Splitting & Testing Models:"
   ]
  },
  {
   "cell_type": "code",
   "execution_count": 118,
   "id": "2dc44f24",
   "metadata": {},
   "outputs": [],
   "source": [
    "X_train,X_test,Y_train,Y_test=preprocessing(data,task='Regression')"
   ]
  },
  {
   "cell_type": "code",
   "execution_count": 119,
   "id": "d41c2c8d",
   "metadata": {},
   "outputs": [
    {
     "data": {
      "text/html": [
       "<div>\n",
       "<style scoped>\n",
       "    .dataframe tbody tr th:only-of-type {\n",
       "        vertical-align: middle;\n",
       "    }\n",
       "\n",
       "    .dataframe tbody tr th {\n",
       "        vertical-align: top;\n",
       "    }\n",
       "\n",
       "    .dataframe thead th {\n",
       "        text-align: right;\n",
       "    }\n",
       "</style>\n",
       "<table border=\"1\" class=\"dataframe\">\n",
       "  <thead>\n",
       "    <tr style=\"text-align: right;\">\n",
       "      <th></th>\n",
       "      <th>X</th>\n",
       "      <th>Y</th>\n",
       "      <th>month</th>\n",
       "      <th>day</th>\n",
       "      <th>FFMC</th>\n",
       "      <th>DMC</th>\n",
       "      <th>DC</th>\n",
       "      <th>ISI</th>\n",
       "      <th>temp</th>\n",
       "      <th>RH</th>\n",
       "      <th>wind</th>\n",
       "      <th>rain</th>\n",
       "    </tr>\n",
       "  </thead>\n",
       "  <tbody>\n",
       "    <tr>\n",
       "      <th>0</th>\n",
       "      <td>1.460144</td>\n",
       "      <td>1.330887</td>\n",
       "      <td>0.226770</td>\n",
       "      <td>-0.599195</td>\n",
       "      <td>-0.750425</td>\n",
       "      <td>-0.262938</td>\n",
       "      <td>0.268405</td>\n",
       "      <td>-0.471881</td>\n",
       "      <td>-0.247391</td>\n",
       "      <td>0.426174</td>\n",
       "      <td>0.058891</td>\n",
       "      <td>-0.079936</td>\n",
       "    </tr>\n",
       "    <tr>\n",
       "      <th>1</th>\n",
       "      <td>0.603934</td>\n",
       "      <td>-0.246461</td>\n",
       "      <td>0.226770</td>\n",
       "      <td>-0.109342</td>\n",
       "      <td>0.748288</td>\n",
       "      <td>0.383050</td>\n",
       "      <td>0.145783</td>\n",
       "      <td>0.306640</td>\n",
       "      <td>0.240778</td>\n",
       "      <td>-0.140559</td>\n",
       "      <td>0.058891</td>\n",
       "      <td>-0.079936</td>\n",
       "    </tr>\n",
       "    <tr>\n",
       "      <th>2</th>\n",
       "      <td>-0.252276</td>\n",
       "      <td>0.542213</td>\n",
       "      <td>-1.913533</td>\n",
       "      <td>0.380511</td>\n",
       "      <td>0.201882</td>\n",
       "      <td>-1.156059</td>\n",
       "      <td>-1.850008</td>\n",
       "      <td>0.019817</td>\n",
       "      <td>-0.281057</td>\n",
       "      <td>-1.085114</td>\n",
       "      <td>0.348181</td>\n",
       "      <td>-0.079936</td>\n",
       "    </tr>\n",
       "    <tr>\n",
       "      <th>3</th>\n",
       "      <td>-1.108486</td>\n",
       "      <td>0.542213</td>\n",
       "      <td>0.226770</td>\n",
       "      <td>-1.089047</td>\n",
       "      <td>0.264329</td>\n",
       "      <td>0.709954</td>\n",
       "      <td>0.461893</td>\n",
       "      <td>1.105648</td>\n",
       "      <td>0.223944</td>\n",
       "      <td>0.237263</td>\n",
       "      <td>0.058891</td>\n",
       "      <td>-0.079936</td>\n",
       "    </tr>\n",
       "    <tr>\n",
       "      <th>4</th>\n",
       "      <td>1.460144</td>\n",
       "      <td>1.330887</td>\n",
       "      <td>-1.913533</td>\n",
       "      <td>0.380511</td>\n",
       "      <td>0.201882</td>\n",
       "      <td>-1.116955</td>\n",
       "      <td>-1.836870</td>\n",
       "      <td>-0.226032</td>\n",
       "      <td>-0.247391</td>\n",
       "      <td>-1.211054</td>\n",
       "      <td>0.868904</td>\n",
       "      <td>-0.079936</td>\n",
       "    </tr>\n",
       "  </tbody>\n",
       "</table>\n",
       "</div>"
      ],
      "text/plain": [
       "          X         Y     month       day      FFMC       DMC        DC  \\\n",
       "0  1.460144  1.330887  0.226770 -0.599195 -0.750425 -0.262938  0.268405   \n",
       "1  0.603934 -0.246461  0.226770 -0.109342  0.748288  0.383050  0.145783   \n",
       "2 -0.252276  0.542213 -1.913533  0.380511  0.201882 -1.156059 -1.850008   \n",
       "3 -1.108486  0.542213  0.226770 -1.089047  0.264329  0.709954  0.461893   \n",
       "4  1.460144  1.330887 -1.913533  0.380511  0.201882 -1.116955 -1.836870   \n",
       "\n",
       "        ISI      temp        RH      wind      rain  \n",
       "0 -0.471881 -0.247391  0.426174  0.058891 -0.079936  \n",
       "1  0.306640  0.240778 -0.140559  0.058891 -0.079936  \n",
       "2  0.019817 -0.281057 -1.085114  0.348181 -0.079936  \n",
       "3  1.105648  0.223944  0.237263  0.058891 -0.079936  \n",
       "4 -0.226032 -0.247391 -1.211054  0.868904 -0.079936  "
      ]
     },
     "execution_count": 119,
     "metadata": {},
     "output_type": "execute_result"
    }
   ],
   "source": [
    "X_train.head()"
   ]
  },
  {
   "cell_type": "code",
   "execution_count": 58,
   "id": "b7ca04ab",
   "metadata": {},
   "outputs": [
    {
     "data": {
      "text/html": [
       "<div>\n",
       "<style scoped>\n",
       "    .dataframe tbody tr th:only-of-type {\n",
       "        vertical-align: middle;\n",
       "    }\n",
       "\n",
       "    .dataframe tbody tr th {\n",
       "        vertical-align: top;\n",
       "    }\n",
       "\n",
       "    .dataframe thead th {\n",
       "        text-align: right;\n",
       "    }\n",
       "</style>\n",
       "<table border=\"1\" class=\"dataframe\">\n",
       "  <thead>\n",
       "    <tr style=\"text-align: right;\">\n",
       "      <th></th>\n",
       "      <th>X</th>\n",
       "      <th>Y</th>\n",
       "      <th>month</th>\n",
       "      <th>day</th>\n",
       "      <th>FFMC</th>\n",
       "      <th>DMC</th>\n",
       "      <th>DC</th>\n",
       "      <th>ISI</th>\n",
       "      <th>temp</th>\n",
       "      <th>RH</th>\n",
       "      <th>wind</th>\n",
       "      <th>rain</th>\n",
       "      <th>Log-area</th>\n",
       "      <th>month_encoded</th>\n",
       "      <th>day_encoded</th>\n",
       "    </tr>\n",
       "  </thead>\n",
       "  <tbody>\n",
       "    <tr>\n",
       "      <th>0</th>\n",
       "      <td>-1.108486</td>\n",
       "      <td>-1.823808</td>\n",
       "      <td>0.226770</td>\n",
       "      <td>-1.089047</td>\n",
       "      <td>0.264329</td>\n",
       "      <td>0.709954</td>\n",
       "      <td>0.461893</td>\n",
       "      <td>1.105648</td>\n",
       "      <td>0.493278</td>\n",
       "      <td>0.803996</td>\n",
       "      <td>-0.461831</td>\n",
       "      <td>-0.079936</td>\n",
       "      <td>-0.515535</td>\n",
       "      <td>-1.093831</td>\n",
       "      <td>1.180674</td>\n",
       "    </tr>\n",
       "    <tr>\n",
       "      <th>1</th>\n",
       "      <td>0.603934</td>\n",
       "      <td>0.542213</td>\n",
       "      <td>0.226770</td>\n",
       "      <td>0.870363</td>\n",
       "      <td>-0.032292</td>\n",
       "      <td>-0.161269</td>\n",
       "      <td>0.326531</td>\n",
       "      <td>-0.000671</td>\n",
       "      <td>-0.701892</td>\n",
       "      <td>0.992907</td>\n",
       "      <td>1.100336</td>\n",
       "      <td>-0.079936</td>\n",
       "      <td>-0.822195</td>\n",
       "      <td>-1.093831</td>\n",
       "      <td>-0.356948</td>\n",
       "    </tr>\n",
       "    <tr>\n",
       "      <th>2</th>\n",
       "      <td>-0.252276</td>\n",
       "      <td>1.330887</td>\n",
       "      <td>0.654831</td>\n",
       "      <td>-0.109342</td>\n",
       "      <td>0.514114</td>\n",
       "      <td>-0.411530</td>\n",
       "      <td>0.569386</td>\n",
       "      <td>1.843194</td>\n",
       "      <td>-0.213724</td>\n",
       "      <td>-0.077588</td>\n",
       "      <td>-0.461831</td>\n",
       "      <td>-0.079936</td>\n",
       "      <td>-0.822195</td>\n",
       "      <td>1.200346</td>\n",
       "      <td>0.668133</td>\n",
       "    </tr>\n",
       "    <tr>\n",
       "      <th>3</th>\n",
       "      <td>-0.680381</td>\n",
       "      <td>-0.246461</td>\n",
       "      <td>0.654831</td>\n",
       "      <td>0.380511</td>\n",
       "      <td>0.451668</td>\n",
       "      <td>0.531643</td>\n",
       "      <td>0.683647</td>\n",
       "      <td>1.023699</td>\n",
       "      <td>-0.045390</td>\n",
       "      <td>0.363204</td>\n",
       "      <td>-0.172541</td>\n",
       "      <td>-0.079936</td>\n",
       "      <td>1.820033</td>\n",
       "      <td>1.200346</td>\n",
       "      <td>-1.382029</td>\n",
       "    </tr>\n",
       "    <tr>\n",
       "      <th>4</th>\n",
       "      <td>1.032039</td>\n",
       "      <td>-0.246461</td>\n",
       "      <td>0.654831</td>\n",
       "      <td>-0.599195</td>\n",
       "      <td>-0.047903</td>\n",
       "      <td>-0.380248</td>\n",
       "      <td>0.770438</td>\n",
       "      <td>-0.553830</td>\n",
       "      <td>-0.584058</td>\n",
       "      <td>0.866966</td>\n",
       "      <td>0.348181</td>\n",
       "      <td>-0.079936</td>\n",
       "      <td>1.855501</td>\n",
       "      <td>1.200346</td>\n",
       "      <td>1.693215</td>\n",
       "    </tr>\n",
       "  </tbody>\n",
       "</table>\n",
       "</div>"
      ],
      "text/plain": [
       "          X         Y     month       day      FFMC       DMC        DC  \\\n",
       "0 -1.108486 -1.823808  0.226770 -1.089047  0.264329  0.709954  0.461893   \n",
       "1  0.603934  0.542213  0.226770  0.870363 -0.032292 -0.161269  0.326531   \n",
       "2 -0.252276  1.330887  0.654831 -0.109342  0.514114 -0.411530  0.569386   \n",
       "3 -0.680381 -0.246461  0.654831  0.380511  0.451668  0.531643  0.683647   \n",
       "4  1.032039 -0.246461  0.654831 -0.599195 -0.047903 -0.380248  0.770438   \n",
       "\n",
       "        ISI      temp        RH      wind      rain  Log-area  month_encoded  \\\n",
       "0  1.105648  0.493278  0.803996 -0.461831 -0.079936 -0.515535      -1.093831   \n",
       "1 -0.000671 -0.701892  0.992907  1.100336 -0.079936 -0.822195      -1.093831   \n",
       "2  1.843194 -0.213724 -0.077588 -0.461831 -0.079936 -0.822195       1.200346   \n",
       "3  1.023699 -0.045390  0.363204 -0.172541 -0.079936  1.820033       1.200346   \n",
       "4 -0.553830 -0.584058  0.866966  0.348181 -0.079936  1.855501       1.200346   \n",
       "\n",
       "   day_encoded  \n",
       "0     1.180674  \n",
       "1    -0.356948  \n",
       "2     0.668133  \n",
       "3    -1.382029  \n",
       "4     1.693215  "
      ]
     },
     "execution_count": 58,
     "metadata": {},
     "output_type": "execute_result"
    }
   ],
   "source": [
    "X_test.head()"
   ]
  },
  {
   "cell_type": "code",
   "execution_count": 59,
   "id": "87821b2e",
   "metadata": {},
   "outputs": [
    {
     "data": {
      "text/plain": [
       "171    2.69\n",
       "161    1.90\n",
       "69     0.00\n",
       "272    3.09\n",
       "91     0.00\n",
       "Name: area, dtype: float64"
      ]
     },
     "execution_count": 59,
     "metadata": {},
     "output_type": "execute_result"
    }
   ],
   "source": [
    "Y_train.head()"
   ]
  },
  {
   "cell_type": "code",
   "execution_count": 60,
   "id": "85b03bf4",
   "metadata": {},
   "outputs": [
    {
     "data": {
      "text/plain": [
       "270     0.52\n",
       "90      0.00\n",
       "133     0.00\n",
       "221    35.88\n",
       "224    37.71\n",
       "Name: area, dtype: float64"
      ]
     },
     "execution_count": 60,
     "metadata": {},
     "output_type": "execute_result"
    }
   ],
   "source": [
    "Y_test.head()\n"
   ]
  },
  {
   "cell_type": "markdown",
   "id": "67e650ca",
   "metadata": {},
   "source": [
    "# 1. Linear Regression"
   ]
  },
  {
   "cell_type": "code",
   "execution_count": 62,
   "id": "8601c2c4",
   "metadata": {},
   "outputs": [],
   "source": [
    "import numpy as np\n",
    "import pandas as pd\n",
    "\n",
    "from sklearn.model_selection import train_test_split\n",
    "from sklearn.preprocessing import StandardScaler\n",
    "\n",
    "from sklearn.linear_model import LinearRegression,LogisticRegression\n",
    "from sklearn.neural_network import MLPClassifier,MLPRegressor\n",
    "\n",
    "from sklearn.tree import DecisionTreeRegressor as dtr\n",
    "from sklearn.ensemble import RandomForestRegressor\n",
    "\n",
    "from sklearn.metrics import mean_squared_error as mse\n",
    "from sklearn.metrics import mean_absolute_error as mae\n",
    "from sklearn.metrics import r2_score\n",
    "\n",
    "import warnings\n",
    "warnings.filterwarnings(action='ignore')"
   ]
  },
  {
   "cell_type": "code",
   "execution_count": 63,
   "id": "d7c5128e",
   "metadata": {},
   "outputs": [
    {
     "name": "stdout",
     "output_type": "stream",
     "text": [
      "Performance of Linear Regression R^2 metric 0.51851\n"
     ]
    }
   ],
   "source": [
    "#The maximum val. of R^2 can be 1.0 that signifies that Linear Regression is working really well.\n",
    "#Here R^2 score is 0.51 which is low signifying that LinearRegression is not doing well.\n",
    "linear_reg_model=LinearRegression()\n",
    "linear_reg_model.fit(X_train,Y_train)\n",
    "\n",
    "print(\"Performance of Linear Regression R^2 metric {:.5f}\".format(linear_reg_model.score(X_train,Y_train)))"
   ]
  },
  {
   "cell_type": "markdown",
   "id": "631999c1",
   "metadata": {},
   "source": [
    "# 2. MLP Regressor Model"
   ]
  },
  {
   "cell_type": "code",
   "execution_count": 64,
   "id": "d3e8868e",
   "metadata": {},
   "outputs": [
    {
     "name": "stdout",
     "output_type": "stream",
     "text": [
      "Performance of MLP Regressor Model R^2 metric 0.50639\n"
     ]
    }
   ],
   "source": [
    "# We can see the MLP Regressor Model Works better than Linear Regression,however its works same.\n",
    "mlp_reg_model=MLPRegressor().fit(X_train,Y_train)\n",
    "print(\"Performance of MLP Regressor Model R^2 metric {:.5f}\".format(mlp_reg_model.score(X_train,Y_train)))"
   ]
  },
  {
   "cell_type": "markdown",
   "id": "d6328553",
   "metadata": {},
   "source": [
    "# 3. Decision Tree Regressor"
   ]
  },
  {
   "cell_type": "code",
   "execution_count": 65,
   "id": "8e71e5a8",
   "metadata": {},
   "outputs": [
    {
     "name": "stdout",
     "output_type": "stream",
     "text": [
      "MSE = 6048.557144198893\n",
      "MAE = 8.413977900552485\n",
      "R2 Score = -5.8201150257274055\n"
     ]
    }
   ],
   "source": [
    "#R2 score negative not a good fit!\n",
    "reg = dtr(random_state = 42)\n",
    "reg.fit(X_train, Y_train)\n",
    "Y_pred = reg.predict(X_test)\n",
    "print(\"MSE =\", mse(Y_pred, Y_test))\n",
    "print(\"MAE =\", mae(Y_pred, Y_test))\n",
    "print(\"R2 Score =\", r2_score(Y_pred, Y_test))"
   ]
  },
  {
   "cell_type": "markdown",
   "id": "0aecd459",
   "metadata": {},
   "source": [
    "# 4. Random Forest Regressor"
   ]
  },
  {
   "cell_type": "code",
   "execution_count": 66,
   "id": "c5503d11",
   "metadata": {},
   "outputs": [
    {
     "name": "stdout",
     "output_type": "stream",
     "text": [
      "MSE = 6230.821457813967\n",
      "MAE = 11.8437431690821\n",
      "R2 Score = -7.428650981864372\n"
     ]
    }
   ],
   "source": [
    "#This works even worse than Decision Tree Regressor\n",
    "regr = RandomForestRegressor(max_depth=2, random_state=0, n_estimators=100)\n",
    "regr.fit(X_train, Y_train)\n",
    "Y_pred = regr.predict(X_test)\n",
    "print(\"MSE =\", mse(Y_pred, Y_test))\n",
    "print(\"MAE =\", mae(Y_pred, Y_test))\n",
    "print(\"R2 Score =\", r2_score(Y_pred, Y_test))"
   ]
  },
  {
   "cell_type": "markdown",
   "id": "a3b729b5",
   "metadata": {},
   "source": [
    "# 5. Logistic Regression"
   ]
  },
  {
   "cell_type": "code",
   "execution_count": 68,
   "id": "b8ecc33d",
   "metadata": {},
   "outputs": [
    {
     "data": {
      "text/plain": [
       "171    1\n",
       "161    1\n",
       "69     0\n",
       "272    1\n",
       "91     0\n",
       "247    1\n",
       "201    1\n",
       "392    1\n",
       "125    0\n",
       "498    1\n",
       "379    0\n",
       "59     0\n",
       "120    0\n",
       "12     0\n",
       "400    1\n",
       "315    0\n",
       "324    1\n",
       "516    0\n",
       "236    1\n",
       "157    1\n",
       "416    1\n",
       "186    1\n",
       "424    1\n",
       "242    1\n",
       "430    0\n",
       "255    0\n",
       "285    0\n",
       "465    1\n",
       "207    1\n",
       "363    1\n",
       "339    1\n",
       "208    1\n",
       "88     0\n",
       "329    1\n",
       "131    0\n",
       "124    0\n",
       "174    1\n",
       "323    1\n",
       "191    1\n",
       "14     0\n",
       "411    1\n",
       "492    0\n",
       "123    0\n",
       "138    1\n",
       "111    0\n",
       "51     0\n",
       "365    1\n",
       "112    0\n",
       "9      0\n",
       "19     0\n",
       "16     0\n",
       "277    1\n",
       "0      0\n",
       "361    1\n",
       "105    0\n",
       "284    1\n",
       "414    0\n",
       "505    1\n",
       "307    1\n",
       "462    1\n",
       "230    1\n",
       "440    0\n",
       "70     0\n",
       "330    1\n",
       "403    0\n",
       "290    0\n",
       "38     0\n",
       "150    1\n",
       "304    0\n",
       "474    1\n",
       "163    1\n",
       "167    1\n",
       "257    1\n",
       "206    1\n",
       "244    1\n",
       "188    1\n",
       "145    1\n",
       "441    1\n",
       "443    0\n",
       "412    1\n",
       "502    0\n",
       "375    1\n",
       "419    1\n",
       "312    0\n",
       "291    1\n",
       "388    1\n",
       "175    1\n",
       "427    1\n",
       "450    1\n",
       "229    1\n",
       "306    1\n",
       "228    1\n",
       "100    0\n",
       "417    0\n",
       "53     0\n",
       "227    1\n",
       "485    1\n",
       "515    0\n",
       "154    1\n",
       "251    1\n",
       "275    1\n",
       "158    1\n",
       "271    1\n",
       "44     0\n",
       "504    1\n",
       "113    0\n",
       "328    0\n",
       "211    1\n",
       "108    0\n",
       "169    1\n",
       "79     0\n",
       "493    1\n",
       "84     0\n",
       "8      0\n",
       "32     0\n",
       "99     0\n",
       "451    1\n",
       "426    0\n",
       "222    1\n",
       "28     0\n",
       "287    0\n",
       "383    1\n",
       "55     0\n",
       "496    1\n",
       "404    1\n",
       "425    0\n",
       "48     0\n",
       "428    0\n",
       "366    1\n",
       "33     0\n",
       "35     0\n",
       "63     0\n",
       "495    0\n",
       "341    0\n",
       "234    1\n",
       "513    1\n",
       "45     0\n",
       "303    0\n",
       "177    1\n",
       "219    1\n",
       "396    1\n",
       "296    1\n",
       "21     0\n",
       "248    0\n",
       "309    0\n",
       "199    1\n",
       "137    0\n",
       "24     0\n",
       "184    1\n",
       "205    1\n",
       "134    0\n",
       "299    0\n",
       "116    0\n",
       "212    1\n",
       "497    1\n",
       "445    0\n",
       "343    1\n",
       "231    1\n",
       "217    1\n",
       "56     0\n",
       "480    1\n",
       "410    0\n",
       "382    1\n",
       "380    1\n",
       "340    1\n",
       "181    1\n",
       "97     0\n",
       "114    0\n",
       "278    1\n",
       "118    0\n",
       "442    1\n",
       "170    1\n",
       "448    0\n",
       "54     0\n",
       "176    1\n",
       "327    0\n",
       "194    1\n",
       "198    1\n",
       "368    1\n",
       "486    1\n",
       "182    1\n",
       "423    1\n",
       "354    1\n",
       "103    0\n",
       "220    1\n",
       "130    0\n",
       "353    1\n",
       "338    1\n",
       "376    0\n",
       "60     0\n",
       "94     0\n",
       "193    1\n",
       "140    1\n",
       "148    1\n",
       "202    1\n",
       "152    1\n",
       "377    1\n",
       "337    1\n",
       "422    1\n",
       "10     0\n",
       "269    1\n",
       "96     0\n",
       "210    1\n",
       "240    0\n",
       "57     0\n",
       "301    1\n",
       "397    1\n",
       "359    1\n",
       "36     0\n",
       "466    1\n",
       "20     0\n",
       "467    1\n",
       "332    1\n",
       "75     0\n",
       "200    1\n",
       "77     0\n",
       "263    1\n",
       "203    1\n",
       "149    1\n",
       "455    0\n",
       "2      0\n",
       "52     0\n",
       "262    1\n",
       "253    1\n",
       "476    1\n",
       "259    1\n",
       "333    1\n",
       "369    0\n",
       "321    1\n",
       "183    1\n",
       "151    1\n",
       "472    1\n",
       "302    0\n",
       "190    1\n",
       "74     0\n",
       "348    0\n",
       "243    0\n",
       "506    0\n",
       "87     0\n",
       "239    0\n",
       "143    1\n",
       "434    0\n",
       "266    1\n",
       "418    1\n",
       "288    0\n",
       "136    0\n",
       "166    1\n",
       "83     0\n",
       "511    0\n",
       "421    0\n",
       "155    1\n",
       "356    1\n",
       "381    1\n",
       "279    1\n",
       "126    0\n",
       "195    1\n",
       "265    1\n",
       "479    1\n",
       "104    0\n",
       "153    1\n",
       "282    0\n",
       "391    1\n",
       "226    1\n",
       "367    0\n",
       "25     0\n",
       "196    1\n",
       "64     0\n",
       "15     0\n",
       "297    0\n",
       "371    0\n",
       "109    0\n",
       "336    0\n",
       "308    0\n",
       "26     0\n",
       "76     0\n",
       "43     0\n",
       "280    1\n",
       "452    0\n",
       "3      0\n",
       "487    1\n",
       "49     0\n",
       "405    0\n",
       "454    0\n",
       "387    0\n",
       "510    1\n",
       "30     0\n",
       "456    0\n",
       "121    0\n",
       "431    1\n",
       "115    0\n",
       "484    1\n",
       "216    1\n",
       "264    1\n",
       "209    1\n",
       "316    0\n",
       "384    1\n",
       "1      0\n",
       "313    0\n",
       "22     0\n",
       "317    1\n",
       "319    1\n",
       "7      0\n",
       "393    0\n",
       "141    1\n",
       "86     0\n",
       "352    1\n",
       "478    1\n",
       "241    0\n",
       "489    0\n",
       "471    1\n",
       "215    1\n",
       "68     0\n",
       "50     0\n",
       "398    0\n",
       "413    0\n",
       "156    1\n",
       "490    0\n",
       "252    1\n",
       "395    1\n",
       "468    1\n",
       "402    0\n",
       "357    0\n",
       "254    1\n",
       "276    1\n",
       "178    1\n",
       "281    1\n",
       "390    1\n",
       "508    0\n",
       "237    1\n",
       "71     0\n",
       "460    0\n",
       "129    0\n",
       "144    1\n",
       "72     0\n",
       "235    1\n",
       "37     0\n",
       "Name: area, dtype: int64"
      ]
     },
     "execution_count": 68,
     "metadata": {},
     "output_type": "execute_result"
    }
   ],
   "source": [
    "X_train,X_test,Y_train,Y_test=preprocessing(data,task='Classification')\n",
    "Y_train"
   ]
  },
  {
   "cell_type": "code",
   "execution_count": 69,
   "id": "d9b85c1d",
   "metadata": {},
   "outputs": [
    {
     "name": "stdout",
     "output_type": "stream",
     "text": [
      "Logistic Regression Accuracy, 95.58011%\n"
     ]
    }
   ],
   "source": [
    "log_reg_model=LogisticRegression()\n",
    "log_reg_model.fit(X_train,Y_train)\n",
    "\n",
    "print('Logistic Regression Accuracy, {:.5f}%'.format(log_reg_model.score(X_test,Y_test)*100))"
   ]
  },
  {
   "cell_type": "markdown",
   "id": "c746c760",
   "metadata": {},
   "source": [
    "# 6. Neural Network Classifier"
   ]
  },
  {
   "cell_type": "code",
   "execution_count": 70,
   "id": "6941ddfd",
   "metadata": {},
   "outputs": [
    {
     "data": {
      "text/plain": [
       "MLPClassifier(hidden_layer_sizes=(16, 16), n_iter_no_change=100)"
      ]
     },
     "execution_count": 70,
     "metadata": {},
     "output_type": "execute_result"
    }
   ],
   "source": [
    "nn_classifier_model=MLPClassifier(activation='relu',hidden_layer_sizes=(16,16),n_iter_no_change=100,solver='adam')\n",
    "nn_classifier_model.fit(X_train,Y_train)"
   ]
  },
  {
   "cell_type": "code",
   "execution_count": 101,
   "id": "e6b96cb9",
   "metadata": {},
   "outputs": [
    {
     "name": "stdout",
     "output_type": "stream",
     "text": [
      "Neural Network Classifier Accuracy, 92.81768%\n"
     ]
    }
   ],
   "source": [
    "print('Neural Network Classifier Accuracy, {:.5f}%'.format(nn_classifier_model.score(X_test,Y_test)*100))"
   ]
  },
  {
   "cell_type": "markdown",
   "id": "df934380",
   "metadata": {},
   "source": [
    "# Data Visualization"
   ]
  },
  {
   "cell_type": "markdown",
   "id": "992d09fd",
   "metadata": {},
   "source": [
    "Plot scatterplots and distributions of numerical features to see how they may affect the output 'area'. For this, first we need to transform the outcome 'area' by taking its logarithm (after adding 1 to avoid zeros)\n",
    "\n"
   ]
  },
  {
   "cell_type": "code",
   "execution_count": 6,
   "id": "16917821",
   "metadata": {},
   "outputs": [
    {
     "data": {
      "image/png": "[encoded data removed]",
      "text/plain": [
       "<Figure size 432x288 with 1 Axes>"
      ]
     },
     "metadata": {
      "needs_background": "light"
     },
     "output_type": "display_data"
    },
    {
     "data": {
      "image/png": "[encoded data removed]",
      "text/plain": [
       "<Figure size 432x288 with 1 Axes>"
      ]
     },
     "metadata": {
      "needs_background": "light"
     },
     "output_type": "display_data"
    },
    {
     "data": {
      "image/png": "[encoded data removed]",
      "text/plain": [
       "<Figure size 432x288 with 1 Axes>"
      ]
     },
     "metadata": {
      "needs_background": "light"
     },
     "output_type": "display_data"
    },
    {
     "data": {
      "image/png": "[encoded data removed]",
      "text/plain": [
       "<Figure size 432x288 with 1 Axes>"
      ]
     },
     "metadata": {
      "needs_background": "light"
     },
     "output_type": "display_data"
    },
    {
     "data": {
      "image/png": "[encoded data removed]",
      "text/plain": [
       "<Figure size 432x288 with 1 Axes>"
      ]
     },
     "metadata": {
      "needs_background": "light"
     },
     "output_type": "display_data"
    },
    {
     "data": {
      "image/png": "[encoded data removed]",
      "text/plain": [
       "<Figure size 432x288 with 1 Axes>"
      ]
     },
     "metadata": {
      "needs_background": "light"
     },
     "output_type": "display_data"
    },
    {
     "data": {
      "image/png": "[encoded data removed]",
      "text/plain": [
       "<Figure size 432x288 with 1 Axes>"
      ]
     },
     "metadata": {
      "needs_background": "light"
     },
     "output_type": "display_data"
    },
    {
     "data": {
      "image/png": "[encoded data removed]",
      "text/plain": [
       "<Figure size 432x288 with 1 Axes>"
      ]
     },
     "metadata": {
      "needs_background": "light"
     },
     "output_type": "display_data"
    },
    {
     "data": {
      "image/png": "[encoded data removed]",
      "text/plain": [
       "<Figure size 432x288 with 1 Axes>"
      ]
     },
     "metadata": {
      "needs_background": "light"
     },
     "output_type": "display_data"
    },
    {
     "data": {
      "image/png": "[encoded data removed]",
      "text/plain": [
       "<Figure size 432x288 with 1 Axes>"
      ]
     },
     "metadata": {
      "needs_background": "light"
     },
     "output_type": "display_data"
    }
   ],
   "source": [
    "data['Log-area']=np.log10(data['area']+1)\n",
    "\n",
    "for i in data.describe().columns[:-2]:\n",
    "    data.plot.scatter(i,'Log-area',grid=True)"
   ]
  },
  {
   "cell_type": "markdown",
   "id": "7713e4f9",
   "metadata": {},
   "source": [
    "# Plot boxplots of how the categorical features (month and day) affect the outcome"
   ]
  },
  {
   "cell_type": "code",
   "execution_count": 7,
   "id": "2d81db2d",
   "metadata": {},
   "outputs": [
    {
     "data": {
      "text/plain": [
       "<AxesSubplot:title={'center':'Log-area'}, xlabel='day'>"
      ]
     },
     "execution_count": 7,
     "metadata": {},
     "output_type": "execute_result"
    },
    {
     "data": {
      "image/png": "[encoded data removed]",
      "text/plain": [
       "<Figure size 432x288 with 1 Axes>"
      ]
     },
     "metadata": {
      "needs_background": "light"
     },
     "output_type": "display_data"
    }
   ],
   "source": [
    "data.boxplot(column='Log-area',by='day')"
   ]
  },
  {
   "cell_type": "code",
   "execution_count": 8,
   "id": "feb468d7",
   "metadata": {},
   "outputs": [
    {
     "data": {
      "text/plain": [
       "<AxesSubplot:title={'center':'Log-area'}, xlabel='month'>"
      ]
     },
     "execution_count": 8,
     "metadata": {},
     "output_type": "execute_result"
    },
    {
     "data": {
      "image/png": "[encoded data removed]",
      "text/plain": [
       "<Figure size 432x288 with 1 Axes>"
      ]
     },
     "metadata": {
      "needs_background": "light"
     },
     "output_type": "display_data"
    }
   ],
   "source": [
    "data.boxplot(column='Log-area',by='month')"
   ]
  },
  {
   "cell_type": "code",
   "execution_count": 109,
   "id": "abd14e26",
   "metadata": {},
   "outputs": [
    {
     "data": {
      "image/png": "[encoded data removed]",
      "text/plain": [
       "<Figure size 2160x720 with 1 Axes>"
      ]
     },
     "metadata": {},
     "output_type": "display_data"
    }
   ],
   "source": [
    "plt.figure(figsize=(30, 10))\n",
    "sns.set(style=\"white\")\n",
    "ax = sns.countplot(x=\"month\", data = data, palette=\"Blues_d\")\n",
    "ax.set_title(\"Frequency of Month in the dataset\", fontdict = {'fontsize':30, 'fontweight':'bold'})\n",
    "ax.set_xlabel(\"Temperature\", fontdict = {'fontsize':20, 'fontweight': 'medium'})\n",
    "ax.set_ylabel(\"Frequency\", fontdict = {'fontsize':20, 'fontweight': 'medium'})\n",
    "ax.grid(which = 'major',color = 'grey', linewidth = 0.2)"
   ]
  },
  {
   "cell_type": "code",
   "execution_count": 110,
   "id": "98647f40",
   "metadata": {},
   "outputs": [
    {
     "data": {
      "image/png": "[encoded data removed]",
      "text/plain": [
       "<Figure size 432x288 with 1 Axes>"
      ]
     },
     "metadata": {},
     "output_type": "display_data"
    }
   ],
   "source": [
    "data['rain'].value_counts().plot(kind='barh',color='skyblue')\n",
    "plt.show()"
   ]
  },
  {
   "cell_type": "code",
   "execution_count": 111,
   "id": "6cbef7f3",
   "metadata": {},
   "outputs": [
    {
     "data": {
      "image/png": "[encoded data removed]",
      "text/plain": [
       "<Figure size 432x288 with 1 Axes>"
      ]
     },
     "metadata": {},
     "output_type": "display_data"
    }
   ],
   "source": [
    "data['day'].value_counts().plot(kind='barh',color='skyblue')\n",
    "plt.show()"
   ]
  },
  {
   "cell_type": "code",
   "execution_count": 112,
   "id": "22fe0c6a",
   "metadata": {},
   "outputs": [
    {
     "data": {
      "image/png": "[encoded data removed]",
      "text/plain": [
       "<Figure size 432x288 with 1 Axes>"
      ]
     },
     "metadata": {},
     "output_type": "display_data"
    }
   ],
   "source": [
    "data['wind'].value_counts().plot(kind='barh',color='skyblue')\n",
    "plt.show()"
   ]
  },
  {
   "cell_type": "code",
   "execution_count": null,
   "id": "ffe299c0",
   "metadata": {},
   "outputs": [],
   "source": []
  },
  {
   "cell_type": "code",
   "execution_count": null,
   "id": "61049077",
   "metadata": {},
   "outputs": [],
   "source": [
    "# Label Encoder, test/train split, REC function"
   ]
  },
  {
   "cell_type": "code",
   "execution_count": 9,
   "id": "83fb9708",
   "metadata": {},
   "outputs": [],
   "source": [
    "from sklearn.model_selection import train_test_split\n",
    "from sklearn.preprocessing import OneHotEncoder\n",
    "from sklearn.preprocessing import LabelEncoder"
   ]
  },
  {
   "cell_type": "code",
   "execution_count": 10,
   "id": "7e4c6f97",
   "metadata": {},
   "outputs": [
    {
     "data": {
      "text/plain": [
       "LabelEncoder()"
      ]
     },
     "execution_count": 10,
     "metadata": {},
     "output_type": "execute_result"
    }
   ],
   "source": [
    "#Label encoder for the categorical feature (day and month\n",
    "enc = LabelEncoder()\n",
    "enc.fit(data['month'])"
   ]
  },
  {
   "cell_type": "code",
   "execution_count": 11,
   "id": "c7b3dfe9",
   "metadata": {},
   "outputs": [
    {
     "data": {
      "text/plain": [
       "array(['apr', 'aug', 'dec', 'feb', 'jan', 'jul', 'jun', 'mar', 'may',\n",
       "       'nov', 'oct', 'sep'], dtype=object)"
      ]
     },
     "execution_count": 11,
     "metadata": {},
     "output_type": "execute_result"
    }
   ],
   "source": [
    "enc.classes_"
   ]
  },
  {
   "cell_type": "code",
   "execution_count": 12,
   "id": "4448f1e5",
   "metadata": {},
   "outputs": [
    {
     "data": {
      "text/html": [
       "<div>\n",
       "<style scoped>\n",
       "    .dataframe tbody tr th:only-of-type {\n",
       "        vertical-align: middle;\n",
       "    }\n",
       "\n",
       "    .dataframe tbody tr th {\n",
       "        vertical-align: top;\n",
       "    }\n",
       "\n",
       "    .dataframe thead th {\n",
       "        text-align: right;\n",
       "    }\n",
       "</style>\n",
       "<table border=\"1\" class=\"dataframe\">\n",
       "  <thead>\n",
       "    <tr style=\"text-align: right;\">\n",
       "      <th></th>\n",
       "      <th>X</th>\n",
       "      <th>Y</th>\n",
       "      <th>month</th>\n",
       "      <th>day</th>\n",
       "      <th>FFMC</th>\n",
       "      <th>DMC</th>\n",
       "      <th>DC</th>\n",
       "      <th>ISI</th>\n",
       "      <th>temp</th>\n",
       "      <th>RH</th>\n",
       "      <th>wind</th>\n",
       "      <th>rain</th>\n",
       "      <th>area</th>\n",
       "      <th>Log-area</th>\n",
       "      <th>month_encoded</th>\n",
       "    </tr>\n",
       "  </thead>\n",
       "  <tbody>\n",
       "    <tr>\n",
       "      <th>0</th>\n",
       "      <td>7</td>\n",
       "      <td>5</td>\n",
       "      <td>mar</td>\n",
       "      <td>fri</td>\n",
       "      <td>86.2</td>\n",
       "      <td>26.2</td>\n",
       "      <td>94.3</td>\n",
       "      <td>5.1</td>\n",
       "      <td>8.2</td>\n",
       "      <td>51</td>\n",
       "      <td>6.7</td>\n",
       "      <td>0.0</td>\n",
       "      <td>0.0</td>\n",
       "      <td>0.0</td>\n",
       "      <td>7</td>\n",
       "    </tr>\n",
       "    <tr>\n",
       "      <th>1</th>\n",
       "      <td>7</td>\n",
       "      <td>4</td>\n",
       "      <td>oct</td>\n",
       "      <td>tue</td>\n",
       "      <td>90.6</td>\n",
       "      <td>35.4</td>\n",
       "      <td>669.1</td>\n",
       "      <td>6.7</td>\n",
       "      <td>18.0</td>\n",
       "      <td>33</td>\n",
       "      <td>0.9</td>\n",
       "      <td>0.0</td>\n",
       "      <td>0.0</td>\n",
       "      <td>0.0</td>\n",
       "      <td>10</td>\n",
       "    </tr>\n",
       "    <tr>\n",
       "      <th>2</th>\n",
       "      <td>7</td>\n",
       "      <td>4</td>\n",
       "      <td>oct</td>\n",
       "      <td>sat</td>\n",
       "      <td>90.6</td>\n",
       "      <td>43.7</td>\n",
       "      <td>686.9</td>\n",
       "      <td>6.7</td>\n",
       "      <td>14.6</td>\n",
       "      <td>33</td>\n",
       "      <td>1.3</td>\n",
       "      <td>0.0</td>\n",
       "      <td>0.0</td>\n",
       "      <td>0.0</td>\n",
       "      <td>10</td>\n",
       "    </tr>\n",
       "    <tr>\n",
       "      <th>3</th>\n",
       "      <td>8</td>\n",
       "      <td>6</td>\n",
       "      <td>mar</td>\n",
       "      <td>fri</td>\n",
       "      <td>91.7</td>\n",
       "      <td>33.3</td>\n",
       "      <td>77.5</td>\n",
       "      <td>9.0</td>\n",
       "      <td>8.3</td>\n",
       "      <td>97</td>\n",
       "      <td>4.0</td>\n",
       "      <td>0.2</td>\n",
       "      <td>0.0</td>\n",
       "      <td>0.0</td>\n",
       "      <td>7</td>\n",
       "    </tr>\n",
       "    <tr>\n",
       "      <th>4</th>\n",
       "      <td>8</td>\n",
       "      <td>6</td>\n",
       "      <td>mar</td>\n",
       "      <td>sun</td>\n",
       "      <td>89.3</td>\n",
       "      <td>51.3</td>\n",
       "      <td>102.2</td>\n",
       "      <td>9.6</td>\n",
       "      <td>11.4</td>\n",
       "      <td>99</td>\n",
       "      <td>1.8</td>\n",
       "      <td>0.0</td>\n",
       "      <td>0.0</td>\n",
       "      <td>0.0</td>\n",
       "      <td>7</td>\n",
       "    </tr>\n",
       "  </tbody>\n",
       "</table>\n",
       "</div>"
      ],
      "text/plain": [
       "   X  Y month  day  FFMC   DMC     DC  ISI  temp  RH  wind  rain  area  \\\n",
       "0  7  5   mar  fri  86.2  26.2   94.3  5.1   8.2  51   6.7   0.0   0.0   \n",
       "1  7  4   oct  tue  90.6  35.4  669.1  6.7  18.0  33   0.9   0.0   0.0   \n",
       "2  7  4   oct  sat  90.6  43.7  686.9  6.7  14.6  33   1.3   0.0   0.0   \n",
       "3  8  6   mar  fri  91.7  33.3   77.5  9.0   8.3  97   4.0   0.2   0.0   \n",
       "4  8  6   mar  sun  89.3  51.3  102.2  9.6  11.4  99   1.8   0.0   0.0   \n",
       "\n",
       "   Log-area  month_encoded  \n",
       "0       0.0              7  \n",
       "1       0.0             10  \n",
       "2       0.0             10  \n",
       "3       0.0              7  \n",
       "4       0.0              7  "
      ]
     },
     "execution_count": 12,
     "metadata": {},
     "output_type": "execute_result"
    }
   ],
   "source": [
    "data['month_encoded']=enc.transform(data['month'])\n",
    "data.head()"
   ]
  },
  {
   "cell_type": "code",
   "execution_count": 13,
   "id": "9a65514c",
   "metadata": {},
   "outputs": [
    {
     "data": {
      "text/plain": [
       "LabelEncoder()"
      ]
     },
     "execution_count": 13,
     "metadata": {},
     "output_type": "execute_result"
    }
   ],
   "source": [
    "enc.fit(data['day'])"
   ]
  },
  {
   "cell_type": "code",
   "execution_count": 14,
   "id": "4949509b",
   "metadata": {},
   "outputs": [
    {
     "data": {
      "text/plain": [
       "array(['fri', 'mon', 'sat', 'sun', 'thu', 'tue', 'wed'], dtype=object)"
      ]
     },
     "execution_count": 14,
     "metadata": {},
     "output_type": "execute_result"
    }
   ],
   "source": [
    "enc.classes_\n"
   ]
  },
  {
   "cell_type": "code",
   "execution_count": 15,
   "id": "d6f066d0",
   "metadata": {},
   "outputs": [
    {
     "data": {
      "text/html": [
       "<div>\n",
       "<style scoped>\n",
       "    .dataframe tbody tr th:only-of-type {\n",
       "        vertical-align: middle;\n",
       "    }\n",
       "\n",
       "    .dataframe tbody tr th {\n",
       "        vertical-align: top;\n",
       "    }\n",
       "\n",
       "    .dataframe thead th {\n",
       "        text-align: right;\n",
       "    }\n",
       "</style>\n",
       "<table border=\"1\" class=\"dataframe\">\n",
       "  <thead>\n",
       "    <tr style=\"text-align: right;\">\n",
       "      <th></th>\n",
       "      <th>X</th>\n",
       "      <th>Y</th>\n",
       "      <th>month</th>\n",
       "      <th>day</th>\n",
       "      <th>FFMC</th>\n",
       "      <th>DMC</th>\n",
       "      <th>DC</th>\n",
       "      <th>ISI</th>\n",
       "      <th>temp</th>\n",
       "      <th>RH</th>\n",
       "      <th>wind</th>\n",
       "      <th>rain</th>\n",
       "      <th>area</th>\n",
       "      <th>Log-area</th>\n",
       "      <th>month_encoded</th>\n",
       "      <th>day_encoded</th>\n",
       "    </tr>\n",
       "  </thead>\n",
       "  <tbody>\n",
       "    <tr>\n",
       "      <th>0</th>\n",
       "      <td>7</td>\n",
       "      <td>5</td>\n",
       "      <td>mar</td>\n",
       "      <td>fri</td>\n",
       "      <td>86.2</td>\n",
       "      <td>26.2</td>\n",
       "      <td>94.3</td>\n",
       "      <td>5.1</td>\n",
       "      <td>8.2</td>\n",
       "      <td>51</td>\n",
       "      <td>6.7</td>\n",
       "      <td>0.0</td>\n",
       "      <td>0.0</td>\n",
       "      <td>0.0</td>\n",
       "      <td>7</td>\n",
       "      <td>0</td>\n",
       "    </tr>\n",
       "    <tr>\n",
       "      <th>1</th>\n",
       "      <td>7</td>\n",
       "      <td>4</td>\n",
       "      <td>oct</td>\n",
       "      <td>tue</td>\n",
       "      <td>90.6</td>\n",
       "      <td>35.4</td>\n",
       "      <td>669.1</td>\n",
       "      <td>6.7</td>\n",
       "      <td>18.0</td>\n",
       "      <td>33</td>\n",
       "      <td>0.9</td>\n",
       "      <td>0.0</td>\n",
       "      <td>0.0</td>\n",
       "      <td>0.0</td>\n",
       "      <td>10</td>\n",
       "      <td>5</td>\n",
       "    </tr>\n",
       "    <tr>\n",
       "      <th>2</th>\n",
       "      <td>7</td>\n",
       "      <td>4</td>\n",
       "      <td>oct</td>\n",
       "      <td>sat</td>\n",
       "      <td>90.6</td>\n",
       "      <td>43.7</td>\n",
       "      <td>686.9</td>\n",
       "      <td>6.7</td>\n",
       "      <td>14.6</td>\n",
       "      <td>33</td>\n",
       "      <td>1.3</td>\n",
       "      <td>0.0</td>\n",
       "      <td>0.0</td>\n",
       "      <td>0.0</td>\n",
       "      <td>10</td>\n",
       "      <td>2</td>\n",
       "    </tr>\n",
       "    <tr>\n",
       "      <th>3</th>\n",
       "      <td>8</td>\n",
       "      <td>6</td>\n",
       "      <td>mar</td>\n",
       "      <td>fri</td>\n",
       "      <td>91.7</td>\n",
       "      <td>33.3</td>\n",
       "      <td>77.5</td>\n",
       "      <td>9.0</td>\n",
       "      <td>8.3</td>\n",
       "      <td>97</td>\n",
       "      <td>4.0</td>\n",
       "      <td>0.2</td>\n",
       "      <td>0.0</td>\n",
       "      <td>0.0</td>\n",
       "      <td>7</td>\n",
       "      <td>0</td>\n",
       "    </tr>\n",
       "    <tr>\n",
       "      <th>4</th>\n",
       "      <td>8</td>\n",
       "      <td>6</td>\n",
       "      <td>mar</td>\n",
       "      <td>sun</td>\n",
       "      <td>89.3</td>\n",
       "      <td>51.3</td>\n",
       "      <td>102.2</td>\n",
       "      <td>9.6</td>\n",
       "      <td>11.4</td>\n",
       "      <td>99</td>\n",
       "      <td>1.8</td>\n",
       "      <td>0.0</td>\n",
       "      <td>0.0</td>\n",
       "      <td>0.0</td>\n",
       "      <td>7</td>\n",
       "      <td>3</td>\n",
       "    </tr>\n",
       "    <tr>\n",
       "      <th>5</th>\n",
       "      <td>8</td>\n",
       "      <td>6</td>\n",
       "      <td>aug</td>\n",
       "      <td>sun</td>\n",
       "      <td>92.3</td>\n",
       "      <td>85.3</td>\n",
       "      <td>488.0</td>\n",
       "      <td>14.7</td>\n",
       "      <td>22.2</td>\n",
       "      <td>29</td>\n",
       "      <td>5.4</td>\n",
       "      <td>0.0</td>\n",
       "      <td>0.0</td>\n",
       "      <td>0.0</td>\n",
       "      <td>1</td>\n",
       "      <td>3</td>\n",
       "    </tr>\n",
       "    <tr>\n",
       "      <th>6</th>\n",
       "      <td>8</td>\n",
       "      <td>6</td>\n",
       "      <td>aug</td>\n",
       "      <td>mon</td>\n",
       "      <td>92.3</td>\n",
       "      <td>88.9</td>\n",
       "      <td>495.6</td>\n",
       "      <td>8.5</td>\n",
       "      <td>24.1</td>\n",
       "      <td>27</td>\n",
       "      <td>3.1</td>\n",
       "      <td>0.0</td>\n",
       "      <td>0.0</td>\n",
       "      <td>0.0</td>\n",
       "      <td>1</td>\n",
       "      <td>1</td>\n",
       "    </tr>\n",
       "    <tr>\n",
       "      <th>7</th>\n",
       "      <td>8</td>\n",
       "      <td>6</td>\n",
       "      <td>aug</td>\n",
       "      <td>mon</td>\n",
       "      <td>91.5</td>\n",
       "      <td>145.4</td>\n",
       "      <td>608.2</td>\n",
       "      <td>10.7</td>\n",
       "      <td>8.0</td>\n",
       "      <td>86</td>\n",
       "      <td>2.2</td>\n",
       "      <td>0.0</td>\n",
       "      <td>0.0</td>\n",
       "      <td>0.0</td>\n",
       "      <td>1</td>\n",
       "      <td>1</td>\n",
       "    </tr>\n",
       "    <tr>\n",
       "      <th>8</th>\n",
       "      <td>8</td>\n",
       "      <td>6</td>\n",
       "      <td>sep</td>\n",
       "      <td>tue</td>\n",
       "      <td>91.0</td>\n",
       "      <td>129.5</td>\n",
       "      <td>692.6</td>\n",
       "      <td>7.0</td>\n",
       "      <td>13.1</td>\n",
       "      <td>63</td>\n",
       "      <td>5.4</td>\n",
       "      <td>0.0</td>\n",
       "      <td>0.0</td>\n",
       "      <td>0.0</td>\n",
       "      <td>11</td>\n",
       "      <td>5</td>\n",
       "    </tr>\n",
       "    <tr>\n",
       "      <th>9</th>\n",
       "      <td>7</td>\n",
       "      <td>5</td>\n",
       "      <td>sep</td>\n",
       "      <td>sat</td>\n",
       "      <td>92.5</td>\n",
       "      <td>88.0</td>\n",
       "      <td>698.6</td>\n",
       "      <td>7.1</td>\n",
       "      <td>22.8</td>\n",
       "      <td>40</td>\n",
       "      <td>4.0</td>\n",
       "      <td>0.0</td>\n",
       "      <td>0.0</td>\n",
       "      <td>0.0</td>\n",
       "      <td>11</td>\n",
       "      <td>2</td>\n",
       "    </tr>\n",
       "    <tr>\n",
       "      <th>10</th>\n",
       "      <td>7</td>\n",
       "      <td>5</td>\n",
       "      <td>sep</td>\n",
       "      <td>sat</td>\n",
       "      <td>92.5</td>\n",
       "      <td>88.0</td>\n",
       "      <td>698.6</td>\n",
       "      <td>7.1</td>\n",
       "      <td>17.8</td>\n",
       "      <td>51</td>\n",
       "      <td>7.2</td>\n",
       "      <td>0.0</td>\n",
       "      <td>0.0</td>\n",
       "      <td>0.0</td>\n",
       "      <td>11</td>\n",
       "      <td>2</td>\n",
       "    </tr>\n",
       "    <tr>\n",
       "      <th>11</th>\n",
       "      <td>7</td>\n",
       "      <td>5</td>\n",
       "      <td>sep</td>\n",
       "      <td>sat</td>\n",
       "      <td>92.8</td>\n",
       "      <td>73.2</td>\n",
       "      <td>713.0</td>\n",
       "      <td>22.6</td>\n",
       "      <td>19.3</td>\n",
       "      <td>38</td>\n",
       "      <td>4.0</td>\n",
       "      <td>0.0</td>\n",
       "      <td>0.0</td>\n",
       "      <td>0.0</td>\n",
       "      <td>11</td>\n",
       "      <td>2</td>\n",
       "    </tr>\n",
       "    <tr>\n",
       "      <th>12</th>\n",
       "      <td>6</td>\n",
       "      <td>5</td>\n",
       "      <td>aug</td>\n",
       "      <td>fri</td>\n",
       "      <td>63.5</td>\n",
       "      <td>70.8</td>\n",
       "      <td>665.3</td>\n",
       "      <td>0.8</td>\n",
       "      <td>17.0</td>\n",
       "      <td>72</td>\n",
       "      <td>6.7</td>\n",
       "      <td>0.0</td>\n",
       "      <td>0.0</td>\n",
       "      <td>0.0</td>\n",
       "      <td>1</td>\n",
       "      <td>0</td>\n",
       "    </tr>\n",
       "    <tr>\n",
       "      <th>13</th>\n",
       "      <td>6</td>\n",
       "      <td>5</td>\n",
       "      <td>sep</td>\n",
       "      <td>mon</td>\n",
       "      <td>90.9</td>\n",
       "      <td>126.5</td>\n",
       "      <td>686.5</td>\n",
       "      <td>7.0</td>\n",
       "      <td>21.3</td>\n",
       "      <td>42</td>\n",
       "      <td>2.2</td>\n",
       "      <td>0.0</td>\n",
       "      <td>0.0</td>\n",
       "      <td>0.0</td>\n",
       "      <td>11</td>\n",
       "      <td>1</td>\n",
       "    </tr>\n",
       "    <tr>\n",
       "      <th>14</th>\n",
       "      <td>6</td>\n",
       "      <td>5</td>\n",
       "      <td>sep</td>\n",
       "      <td>wed</td>\n",
       "      <td>92.9</td>\n",
       "      <td>133.3</td>\n",
       "      <td>699.6</td>\n",
       "      <td>9.2</td>\n",
       "      <td>26.4</td>\n",
       "      <td>21</td>\n",
       "      <td>4.5</td>\n",
       "      <td>0.0</td>\n",
       "      <td>0.0</td>\n",
       "      <td>0.0</td>\n",
       "      <td>11</td>\n",
       "      <td>6</td>\n",
       "    </tr>\n",
       "  </tbody>\n",
       "</table>\n",
       "</div>"
      ],
      "text/plain": [
       "    X  Y month  day  FFMC    DMC     DC   ISI  temp  RH  wind  rain  area  \\\n",
       "0   7  5   mar  fri  86.2   26.2   94.3   5.1   8.2  51   6.7   0.0   0.0   \n",
       "1   7  4   oct  tue  90.6   35.4  669.1   6.7  18.0  33   0.9   0.0   0.0   \n",
       "2   7  4   oct  sat  90.6   43.7  686.9   6.7  14.6  33   1.3   0.0   0.0   \n",
       "3   8  6   mar  fri  91.7   33.3   77.5   9.0   8.3  97   4.0   0.2   0.0   \n",
       "4   8  6   mar  sun  89.3   51.3  102.2   9.6  11.4  99   1.8   0.0   0.0   \n",
       "5   8  6   aug  sun  92.3   85.3  488.0  14.7  22.2  29   5.4   0.0   0.0   \n",
       "6   8  6   aug  mon  92.3   88.9  495.6   8.5  24.1  27   3.1   0.0   0.0   \n",
       "7   8  6   aug  mon  91.5  145.4  608.2  10.7   8.0  86   2.2   0.0   0.0   \n",
       "8   8  6   sep  tue  91.0  129.5  692.6   7.0  13.1  63   5.4   0.0   0.0   \n",
       "9   7  5   sep  sat  92.5   88.0  698.6   7.1  22.8  40   4.0   0.0   0.0   \n",
       "10  7  5   sep  sat  92.5   88.0  698.6   7.1  17.8  51   7.2   0.0   0.0   \n",
       "11  7  5   sep  sat  92.8   73.2  713.0  22.6  19.3  38   4.0   0.0   0.0   \n",
       "12  6  5   aug  fri  63.5   70.8  665.3   0.8  17.0  72   6.7   0.0   0.0   \n",
       "13  6  5   sep  mon  90.9  126.5  686.5   7.0  21.3  42   2.2   0.0   0.0   \n",
       "14  6  5   sep  wed  92.9  133.3  699.6   9.2  26.4  21   4.5   0.0   0.0   \n",
       "\n",
       "    Log-area  month_encoded  day_encoded  \n",
       "0        0.0              7            0  \n",
       "1        0.0             10            5  \n",
       "2        0.0             10            2  \n",
       "3        0.0              7            0  \n",
       "4        0.0              7            3  \n",
       "5        0.0              1            3  \n",
       "6        0.0              1            1  \n",
       "7        0.0              1            1  \n",
       "8        0.0             11            5  \n",
       "9        0.0             11            2  \n",
       "10       0.0             11            2  \n",
       "11       0.0             11            2  \n",
       "12       0.0              1            0  \n",
       "13       0.0             11            1  \n",
       "14       0.0             11            6  "
      ]
     },
     "execution_count": 15,
     "metadata": {},
     "output_type": "execute_result"
    }
   ],
   "source": [
    "data['day_encoded']=enc.transform(data['day'])\n",
    "data.head(15)"
   ]
  },
  {
   "cell_type": "code",
   "execution_count": 16,
   "id": "57b43231",
   "metadata": {},
   "outputs": [],
   "source": [
    "test_size=0.4"
   ]
  },
  {
   "cell_type": "code",
   "execution_count": 17,
   "id": "b8b146ec",
   "metadata": {},
   "outputs": [],
   "source": [
    "X_data=data.drop(['area','Log-area','month','day'],axis=1)\n",
    "y_data=data['Log-area']\n",
    "\n",
    "X_train, X_test, y_train, y_test = train_test_split(X_data, y_data, test_size=test_size)"
   ]
  },
  {
   "cell_type": "code",
   "execution_count": 18,
   "id": "cf291e53",
   "metadata": {},
   "outputs": [],
   "source": [
    "y_train=y_train.values.reshape(y_train.size,1)\n"
   ]
  },
  {
   "cell_type": "markdown",
   "id": "9d3f135b",
   "metadata": {},
   "source": [
    "Regression Error Characteristic (REC) estimation\n",
    "\n",
    "\n",
    "\n",
    "\n",
    "Receiver Operating Characteristic (ROC) curves provide a powerful tool for visualizing and comparing classification results. Regression Error Characteristic (REC) curves generalize ROC curves to regression. REC curves plot the error tolerance on the x-axis versus the percentage of points predicted within the tolerance on the y-axis. The resulting curve estimates the cumulative distribution function of the error. The REC curve visually presents commonly-useds tatistics. The area-over-the-curve (AOC) is a biased estimate of the expected error. The R2 value can be estimated using the ratio of the AOC for a given model to the AOC for the nul-model. Users can quickly assess the relative merits of many regression functions by examining the relative position of their REC curves. The shape of the curve reveals additional information that can be used to guide modeling."
   ]
  },
  {
   "cell_type": "code",
   "execution_count": 19,
   "id": "4094b950",
   "metadata": {},
   "outputs": [],
   "source": [
    "def rec(m,n,tol):\n",
    "    if type(m)!='numpy.ndarray':\n",
    "        m=np.array(m)\n",
    "    if type(n)!='numpy.ndarray':\n",
    "        n=np.array(n)\n",
    "    l=m.size\n",
    "    percent = 0\n",
    "    for i in range(l):\n",
    "        if np.abs(10**m[i]-10**n[i])<=tol:\n",
    "            percent+=1\n",
    "    return 100*(percent/l)"
   ]
  },
  {
   "cell_type": "code",
   "execution_count": 20,
   "id": "2bdda33f",
   "metadata": {},
   "outputs": [],
   "source": [
    "# Define the max tolerance limit for REC curve x-axis\n",
    "# For this problem this represents the absolute value of error in the prediction of the outcome i.e. area burned\n",
    "tol_max=20"
   ]
  },
  {
   "cell_type": "markdown",
   "id": "14e0b3d4",
   "metadata": {},
   "source": [
    "Gridsearch\n",
    "\n",
    "Finding the right parameters for machine learning models is a tricky task! But luckily, Scikit-learn has the functionality of trying a bunch of combinations and see what works best, built in with GridSearchCV! The CV stands for cross-validation.\n",
    "\n",
    "GridSearchCV takes a dictionary that describes the parameters that should be tried and a model to train. The grid of parameters is defined as a dictionary, where the keys are the parameters and the values are the settings to be tested."
   ]
  },
  {
   "cell_type": "markdown",
   "id": "44ceec83",
   "metadata": {},
   "source": [
    "# 7. Support Vector Regressor (SVR)"
   ]
  },
  {
   "cell_type": "code",
   "execution_count": 21,
   "id": "699d44f3",
   "metadata": {},
   "outputs": [],
   "source": [
    "from sklearn.svm import SVR\n",
    "from sklearn.preprocessing import StandardScaler\n",
    "from sklearn.model_selection import GridSearchCV"
   ]
  },
  {
   "cell_type": "code",
   "execution_count": 22,
   "id": "3a3ff7fa",
   "metadata": {},
   "outputs": [],
   "source": [
    "scaler = StandardScaler()"
   ]
  },
  {
   "cell_type": "code",
   "execution_count": 23,
   "id": "1270ce07",
   "metadata": {},
   "outputs": [],
   "source": [
    "# Parameter grid for the Grid Search\n",
    "param_grid = {'C': [0.01,0.1,1, 10], 'epsilon': [10,1,0.1,0.01,0.001,0.0001], 'kernel': ['rbf']}"
   ]
  },
  {
   "cell_type": "code",
   "execution_count": 24,
   "id": "5eb8d031",
   "metadata": {},
   "outputs": [
    {
     "data": {
      "text/plain": [
       "GridSearchCV(cv=5, estimator=SVR(),\n",
       "             param_grid={'C': [0.01, 0.1, 1, 10],\n",
       "                         'epsilon': [10, 1, 0.1, 0.01, 0.001, 0.0001],\n",
       "                         'kernel': ['rbf']})"
      ]
     },
     "execution_count": 24,
     "metadata": {},
     "output_type": "execute_result"
    }
   ],
   "source": [
    "import warnings\n",
    "warnings.filterwarnings(\"ignore\")\n",
    "\n",
    "\n",
    "grid_SVR = GridSearchCV(SVR(),param_grid,refit=True,verbose=0,cv=5)\n",
    "grid_SVR.fit(scaler.fit_transform(X_train),scaler.fit_transform(y_train))"
   ]
  },
  {
   "cell_type": "code",
   "execution_count": 25,
   "id": "253b46b1",
   "metadata": {},
   "outputs": [
    {
     "name": "stdout",
     "output_type": "stream",
     "text": [
      "Best parameters obtained by Grid Search: {'C': 0.01, 'epsilon': 1, 'kernel': 'rbf'}\n"
     ]
    }
   ],
   "source": [
    "print(\"Best parameters obtained by Grid Search:\",grid_SVR.best_params_)"
   ]
  },
  {
   "cell_type": "code",
   "execution_count": 26,
   "id": "a008dec1",
   "metadata": {},
   "outputs": [
    {
     "name": "stdout",
     "output_type": "stream",
     "text": [
      "RMSE for Support Vector Regression: 0.6155174253148493\n"
     ]
    }
   ],
   "source": [
    "\n",
    "a=grid_SVR.predict(X_test)\n",
    "print(\"RMSE for Support Vector Regression:\",np.sqrt(np.mean((y_test-a)**2)))"
   ]
  },
  {
   "cell_type": "code",
   "execution_count": 102,
   "id": "ec189a5b",
   "metadata": {},
   "outputs": [
    {
     "data": {
      "text/plain": [
       "<matplotlib.collections.PathCollection at 0x7f863c715820>"
      ]
     },
     "execution_count": 102,
     "metadata": {},
     "output_type": "execute_result"
    },
    {
     "data": {
      "image/png": "[encoded data removed]",
      "text/plain": [
       "<Figure size 432x288 with 1 Axes>"
      ]
     },
     "metadata": {},
     "output_type": "display_data"
    }
   ],
   "source": [
    "plt.xlabel(\"Actual area burned\")\n",
    "plt.ylabel(\"Error\")\n",
    "plt.title(\"Scatter Plot of Support Vector Regressor\",fontsize=15)\n",
    "plt.grid(True)\n",
    "plt.scatter(10**(y_test),10**(a)-10**(y_test))"
   ]
  },
  {
   "cell_type": "code",
   "execution_count": 103,
   "id": "6b90b4b5",
   "metadata": {},
   "outputs": [
    {
     "data": {
      "text/plain": [
       "(array([  1.,   0.,   0.,   0.,   0.,   0.,   0.,   0.,   0.,   0.,   0.,\n",
       "          0.,   0.,   0.,   0.,   0.,   0.,   0.,   0.,   0.,   0.,   0.,\n",
       "          0.,   0.,   0.,   0.,   0.,   0.,   0.,   0.,   0.,   0.,   0.,\n",
       "          0.,   0.,   0.,   0.,   0.,   0.,   0.,   1.,   0.,   0.,   0.,\n",
       "          0.,   1.,   0.,   2.,  13., 189.]),\n",
       " array([-1088.61320528, -1066.74407395, -1044.87494263, -1023.0058113 ,\n",
       "        -1001.13667997,  -979.26754864,  -957.39841731,  -935.52928598,\n",
       "         -913.66015465,  -891.79102333,  -869.921892  ,  -848.05276067,\n",
       "         -826.18362934,  -804.31449801,  -782.44536668,  -760.57623536,\n",
       "         -738.70710403,  -716.8379727 ,  -694.96884137,  -673.09971004,\n",
       "         -651.23057871,  -629.36144739,  -607.49231606,  -585.62318473,\n",
       "         -563.7540534 ,  -541.88492207,  -520.01579074,  -498.14665942,\n",
       "         -476.27752809,  -454.40839676,  -432.53926543,  -410.6701341 ,\n",
       "         -388.80100277,  -366.93187145,  -345.06274012,  -323.19360879,\n",
       "         -301.32447746,  -279.45534613,  -257.5862148 ,  -235.71708347,\n",
       "         -213.84795215,  -191.97882082,  -170.10968949,  -148.24055816,\n",
       "         -126.37142683,  -104.5022955 ,   -82.63316418,   -60.76403285,\n",
       "          -38.89490152,   -17.02577019,     4.84336114]),\n",
       " <BarContainer object of 50 artists>)"
      ]
     },
     "execution_count": 103,
     "metadata": {},
     "output_type": "execute_result"
    },
    {
     "data": {
      "image/png": "[encoded data removed]",
      "text/plain": [
       "<Figure size 432x288 with 1 Axes>"
      ]
     },
     "metadata": {},
     "output_type": "display_data"
    }
   ],
   "source": [
    "plt.title(\"Histogram of prediction errors, SVR\\n\",fontsize=18)\n",
    "plt.xlabel(\"Prediction error ($ha$)\",fontsize=14)\n",
    "plt.grid(True)\n",
    "plt.hist(10**(a.reshape(a.size,))-10**(y_test),bins=50)"
   ]
  },
  {
   "cell_type": "code",
   "execution_count": 29,
   "id": "93417470",
   "metadata": {},
   "outputs": [
    {
     "data": {
      "text/plain": [
       "[<matplotlib.lines.Line2D at 0x7f8619017550>]"
      ]
     },
     "execution_count": 29,
     "metadata": {},
     "output_type": "execute_result"
    },
    {
     "data": {
      "image/png": "[encoded data removed]",
      "text/plain": [
       "<Figure size 360x360 with 1 Axes>"
      ]
     },
     "metadata": {
      "needs_background": "light"
     },
     "output_type": "display_data"
    }
   ],
   "source": [
    "rec_SVR=[]\n",
    "for i in range(tol_max):\n",
    "    rec_SVR.append(rec(a,y_test,i))\n",
    "\n",
    "plt.figure(figsize=(5,5))\n",
    "plt.title(\"REC curve for the Support Vector Regressor\\n\",fontsize=15)\n",
    "plt.xlabel(\"Absolute error (tolerance) in prediction ($ha$)\")\n",
    "plt.ylabel(\"Percentage of correct prediction\")\n",
    "plt.xticks([i*5 for i in range(tol_max+1)])\n",
    "plt.ylim(-10,100)\n",
    "plt.yticks([i*20 for i in range(6)])\n",
    "plt.grid(True)\n",
    "plt.plot(range(tol_max),rec_SVR)"
   ]
  },
  {
   "cell_type": "markdown",
   "id": "ee6bd673",
   "metadata": {},
   "source": [
    "# 8. Decision Tree Regressor (Hyper-parameter tuned for highest accuracy)"
   ]
  },
  {
   "cell_type": "code",
   "execution_count": 30,
   "id": "e3d0612c",
   "metadata": {},
   "outputs": [],
   "source": [
    "from sklearn.tree import DecisionTreeRegressor"
   ]
  },
  {
   "cell_type": "code",
   "execution_count": 31,
   "id": "793ced0f",
   "metadata": {},
   "outputs": [
    {
     "data": {
      "text/plain": [
       "DecisionTreeRegressor(criterion='mae', max_depth=10)"
      ]
     },
     "execution_count": 31,
     "metadata": {},
     "output_type": "execute_result"
    }
   ],
   "source": [
    "tree_model = DecisionTreeRegressor(max_depth=10,criterion='mae')\n",
    "tree_model.fit(scaler.fit_transform(X_train),scaler.fit_transform(y_train))\n"
   ]
  },
  {
   "cell_type": "code",
   "execution_count": 32,
   "id": "cd52fa2f",
   "metadata": {},
   "outputs": [
    {
     "name": "stdout",
     "output_type": "stream",
     "text": [
      "RMSE for Decision Tree: 2.6804237037879517\n"
     ]
    }
   ],
   "source": [
    "\n",
    "\n",
    "a=tree_model.predict(X_test)\n",
    "print(\"RMSE for Decision Tree:\",np.sqrt(np.mean((y_test-a)**2)))"
   ]
  },
  {
   "cell_type": "code",
   "execution_count": 104,
   "id": "e92402c7",
   "metadata": {},
   "outputs": [
    {
     "data": {
      "text/plain": [
       "<matplotlib.collections.PathCollection at 0x7f85d807e520>"
      ]
     },
     "execution_count": 104,
     "metadata": {},
     "output_type": "execute_result"
    },
    {
     "data": {
      "image/png": "[encoded data removed]",
      "text/plain": [
       "<Figure size 432x288 with 1 Axes>"
      ]
     },
     "metadata": {},
     "output_type": "display_data"
    }
   ],
   "source": [
    "plt.xlabel(\"Actual area burned\")\n",
    "plt.ylabel(\"Error\")\n",
    "plt.title(\"Scatter Plot of Decision Tree Regressor\",fontsize=15)\n",
    "plt.grid(True)\n",
    "plt.scatter(10**(y_test),10**(a)-10**(y_test))"
   ]
  },
  {
   "cell_type": "code",
   "execution_count": 105,
   "id": "9851bfe2",
   "metadata": {},
   "outputs": [
    {
     "data": {
      "text/plain": [
       "(array([  1.,   0.,   0.,   0.,   0.,   0.,   0.,   0.,   0.,   0.,   0.,\n",
       "          0.,   0.,   0.,   0.,   0.,   0.,   0.,   0.,   0.,   0.,   0.,\n",
       "          0.,   0.,   0.,   0.,   0.,   0.,   0.,   0.,   0.,   0.,   0.,\n",
       "          0.,   0.,   0.,   0.,   0.,   0.,   0.,   1.,   0.,   0.,   0.,\n",
       "          0.,   1.,   0.,   2.,  13., 189.]),\n",
       " array([-1088.61320528, -1066.74407395, -1044.87494263, -1023.0058113 ,\n",
       "        -1001.13667997,  -979.26754864,  -957.39841731,  -935.52928598,\n",
       "         -913.66015465,  -891.79102333,  -869.921892  ,  -848.05276067,\n",
       "         -826.18362934,  -804.31449801,  -782.44536668,  -760.57623536,\n",
       "         -738.70710403,  -716.8379727 ,  -694.96884137,  -673.09971004,\n",
       "         -651.23057871,  -629.36144739,  -607.49231606,  -585.62318473,\n",
       "         -563.7540534 ,  -541.88492207,  -520.01579074,  -498.14665942,\n",
       "         -476.27752809,  -454.40839676,  -432.53926543,  -410.6701341 ,\n",
       "         -388.80100277,  -366.93187145,  -345.06274012,  -323.19360879,\n",
       "         -301.32447746,  -279.45534613,  -257.5862148 ,  -235.71708347,\n",
       "         -213.84795215,  -191.97882082,  -170.10968949,  -148.24055816,\n",
       "         -126.37142683,  -104.5022955 ,   -82.63316418,   -60.76403285,\n",
       "          -38.89490152,   -17.02577019,     4.84336114]),\n",
       " <BarContainer object of 50 artists>)"
      ]
     },
     "execution_count": 105,
     "metadata": {},
     "output_type": "execute_result"
    },
    {
     "data": {
      "image/png": "[encoded data removed]",
      "text/plain": [
       "<Figure size 432x288 with 1 Axes>"
      ]
     },
     "metadata": {},
     "output_type": "display_data"
    }
   ],
   "source": [
    "plt.title(\"Histogram of prediction errors, Decision Tree\\n\",fontsize=18)\n",
    "plt.xlabel(\"Prediction error ($ha$)\",fontsize=14)\n",
    "plt.grid(True)\n",
    "plt.hist(10**(a.reshape(a.size,))-10**(y_test),bins=50)"
   ]
  },
  {
   "cell_type": "code",
   "execution_count": 35,
   "id": "e305e033",
   "metadata": {},
   "outputs": [
    {
     "data": {
      "text/plain": [
       "[<matplotlib.lines.Line2D at 0x7f86000bf6d0>]"
      ]
     },
     "execution_count": 35,
     "metadata": {},
     "output_type": "execute_result"
    },
    {
     "data": {
      "image/png": "[encoded data removed]",
      "text/plain": [
       "<Figure size 360x360 with 1 Axes>"
      ]
     },
     "metadata": {
      "needs_background": "light"
     },
     "output_type": "display_data"
    }
   ],
   "source": [
    "rec_DT=[]\n",
    "for i in range(tol_max):\n",
    "    rec_DT.append(rec(a,y_test,i))\n",
    "\n",
    "plt.figure(figsize=(5,5))\n",
    "plt.title(\"REC curve for the single Decision Tree\\n\",fontsize=15)\n",
    "plt.xlabel(\"Absolute error (tolerance) in prediction ($ha$)\")\n",
    "plt.ylabel(\"Percentage of correct prediction\")\n",
    "plt.xticks([i for i in range(0,tol_max+1,5)])\n",
    "plt.ylim(-10,100)\n",
    "plt.yticks([i*20 for i in range(6)])\n",
    "plt.grid(True)\n",
    "plt.plot(range(tol_max),rec_DT)"
   ]
  },
  {
   "cell_type": "markdown",
   "id": "a9b2bd1a",
   "metadata": {},
   "source": [
    "# 9. Random Forest Regressor (Hyper-parameter tuned for highest accuracy)"
   ]
  },
  {
   "cell_type": "code",
   "execution_count": 36,
   "id": "b17e10cf",
   "metadata": {},
   "outputs": [],
   "source": [
    "from sklearn.ensemble import RandomForestRegressor"
   ]
  },
  {
   "cell_type": "code",
   "execution_count": 37,
   "id": "a39f6d0d",
   "metadata": {},
   "outputs": [
    {
     "data": {
      "text/plain": [
       "GridSearchCV(cv=5, estimator=RandomForestRegressor(),\n",
       "             param_grid={'max_depth': [5, 10, 15, 20, 50],\n",
       "                         'max_leaf_nodes': [2, 5, 10],\n",
       "                         'min_samples_leaf': [2, 5, 10],\n",
       "                         'min_samples_split': [2, 5, 10]})"
      ]
     },
     "execution_count": 37,
     "metadata": {},
     "output_type": "execute_result"
    }
   ],
   "source": [
    "param_grid = {'max_depth': [5,10,15,20,50], 'max_leaf_nodes': [2,5,10], 'min_samples_leaf': [2,5,10],\n",
    "             'min_samples_split':[2,5,10]}\n",
    "grid_RF = GridSearchCV(RandomForestRegressor(),param_grid,refit=True,verbose=0,cv=5)\n",
    "grid_RF.fit(X_train,y_train)"
   ]
  },
  {
   "cell_type": "code",
   "execution_count": 38,
   "id": "9eff340f",
   "metadata": {},
   "outputs": [
    {
     "name": "stdout",
     "output_type": "stream",
     "text": [
      "Best parameters obtained by Grid Search: {'max_depth': 5, 'max_leaf_nodes': 2, 'min_samples_leaf': 2, 'min_samples_split': 2}\n"
     ]
    }
   ],
   "source": [
    "print(\"Best parameters obtained by Grid Search:\",grid_RF.best_params_)"
   ]
  },
  {
   "cell_type": "code",
   "execution_count": 39,
   "id": "ceeeadc2",
   "metadata": {},
   "outputs": [
    {
     "name": "stdout",
     "output_type": "stream",
     "text": [
      "RMSE for Random Forest: 0.5673316386872838\n"
     ]
    }
   ],
   "source": [
    "from sklearn.ensemble import RandomForestRegressor\n",
    "param_grid = {'max_depth': [5,10,15,20,50], \n",
    "              'max_leaf_nodes': [2,5,10], \n",
    "              'min_samples_leaf': [2,5,10],\n",
    "              'min_samples_split':[2,5,10]}\n",
    "grid_RF = GridSearchCV(RandomForestRegressor(),param_grid,refit=True,verbose=0,cv=5)\n",
    "grid_RF.fit(X_train,y_train)\n",
    "a=grid_RF.predict(X_test)\n",
    "rmse_rf=np.sqrt(np.mean((y_test-a)**2))\n",
    "print(\"RMSE for Random Forest:\",rmse_rf)"
   ]
  },
  {
   "cell_type": "code",
   "execution_count": 106,
   "id": "e42f994e",
   "metadata": {},
   "outputs": [
    {
     "data": {
      "text/plain": [
       "<matplotlib.collections.PathCollection at 0x7f863b864d90>"
      ]
     },
     "execution_count": 106,
     "metadata": {},
     "output_type": "execute_result"
    },
    {
     "data": {
      "image/png": "[encoded data removed]",
      "text/plain": [
       "<Figure size 432x288 with 1 Axes>"
      ]
     },
     "metadata": {},
     "output_type": "display_data"
    }
   ],
   "source": [
    "plt.xlabel(\"Actual area burned\")\n",
    "plt.ylabel(\"Error\")\n",
    "plt.title(\"Scatter Plot of Random Forest Regressor\",fontsize=15)\n",
    "plt.grid(True)\n",
    "plt.scatter(10**(y_test),10**(a)-10**(y_test))"
   ]
  },
  {
   "cell_type": "code",
   "execution_count": 107,
   "id": "98ae04f7",
   "metadata": {},
   "outputs": [
    {
     "data": {
      "text/plain": [
       "(array([  1.,   0.,   0.,   0.,   0.,   0.,   0.,   0.,   0.,   0.,   0.,\n",
       "          0.,   0.,   0.,   0.,   0.,   0.,   0.,   0.,   0.,   0.,   0.,\n",
       "          0.,   0.,   0.,   0.,   0.,   0.,   0.,   0.,   0.,   0.,   0.,\n",
       "          0.,   0.,   0.,   0.,   0.,   0.,   0.,   1.,   0.,   0.,   0.,\n",
       "          0.,   1.,   0.,   2.,  13., 189.]),\n",
       " array([-1088.61320528, -1066.74407395, -1044.87494263, -1023.0058113 ,\n",
       "        -1001.13667997,  -979.26754864,  -957.39841731,  -935.52928598,\n",
       "         -913.66015465,  -891.79102333,  -869.921892  ,  -848.05276067,\n",
       "         -826.18362934,  -804.31449801,  -782.44536668,  -760.57623536,\n",
       "         -738.70710403,  -716.8379727 ,  -694.96884137,  -673.09971004,\n",
       "         -651.23057871,  -629.36144739,  -607.49231606,  -585.62318473,\n",
       "         -563.7540534 ,  -541.88492207,  -520.01579074,  -498.14665942,\n",
       "         -476.27752809,  -454.40839676,  -432.53926543,  -410.6701341 ,\n",
       "         -388.80100277,  -366.93187145,  -345.06274012,  -323.19360879,\n",
       "         -301.32447746,  -279.45534613,  -257.5862148 ,  -235.71708347,\n",
       "         -213.84795215,  -191.97882082,  -170.10968949,  -148.24055816,\n",
       "         -126.37142683,  -104.5022955 ,   -82.63316418,   -60.76403285,\n",
       "          -38.89490152,   -17.02577019,     4.84336114]),\n",
       " <BarContainer object of 50 artists>)"
      ]
     },
     "execution_count": 107,
     "metadata": {},
     "output_type": "execute_result"
    },
    {
     "data": {
      "image/png": "[encoded data removed]",
      "text/plain": [
       "<Figure size 432x288 with 1 Axes>"
      ]
     },
     "metadata": {},
     "output_type": "display_data"
    }
   ],
   "source": [
    "plt.title(\"Histogram of prediction errors, Random Forest Regressor\\n\",fontsize=18)\n",
    "plt.xlabel(\"Prediction error ($ha$)\",fontsize=14)\n",
    "plt.grid(True)\n",
    "plt.hist(10**(a.reshape(a.size,))-10**(y_test),bins=50)"
   ]
  },
  {
   "cell_type": "code",
   "execution_count": 42,
   "id": "b516cb97",
   "metadata": {},
   "outputs": [
    {
     "data": {
      "text/plain": [
       "[<matplotlib.lines.Line2D at 0x7f863b88b730>]"
      ]
     },
     "execution_count": 42,
     "metadata": {},
     "output_type": "execute_result"
    },
    {
     "data": {
      "image/png": "[encoded data removed]",
      "text/plain": [
       "<Figure size 360x360 with 1 Axes>"
      ]
     },
     "metadata": {
      "needs_background": "light"
     },
     "output_type": "display_data"
    }
   ],
   "source": [
    "rec_RF=[]\n",
    "for i in range(tol_max):\n",
    "    rec_RF.append(rec(a,y_test,i))\n",
    "\n",
    "plt.figure(figsize=(5,5))\n",
    "plt.title(\"REC curve for the Random Forest\\n\",fontsize=15)\n",
    "plt.xlabel(\"Absolute error (tolerance) in prediction ($ha$)\")\n",
    "plt.ylabel(\"Percentage of correct prediction\")\n",
    "plt.xticks([i for i in range(0,tol_max+1,5)])\n",
    "plt.ylim(-10,100)\n",
    "plt.yticks([i*20 for i in range(6)])\n",
    "plt.grid(True)\n",
    "plt.plot(range(tol_max),rec_RF)"
   ]
  },
  {
   "cell_type": "code",
   "execution_count": 43,
   "id": "fb7ef162",
   "metadata": {},
   "outputs": [
    {
     "data": {
      "text/plain": [
       "<matplotlib.legend.Legend at 0x7f863b954730>"
      ]
     },
     "execution_count": 43,
     "metadata": {},
     "output_type": "execute_result"
    },
    {
     "data": {
      "image/png": "[encoded data removed]",
      "text/plain": [
       "<Figure size 720x576 with 1 Axes>"
      ]
     },
     "metadata": {
      "needs_background": "light"
     },
     "output_type": "display_data"
    }
   ],
   "source": [
    "plt.figure(figsize=(10,8))\n",
    "plt.title(\"REC curve for various models\\n\",fontsize=20)\n",
    "plt.xlabel(\"Absolute error (tolerance) in prediction ($ha$)\",fontsize=15)\n",
    "plt.ylabel(\"Percentage of correct prediction\",fontsize=15)\n",
    "plt.xticks([i for i in range(0,tol_max+1,1)],fontsize=13)\n",
    "plt.ylim(-10,100)\n",
    "plt.xlim(-2,tol_max)\n",
    "plt.yticks([i*20 for i in range(6)],fontsize=18)\n",
    "plt.grid(True)\n",
    "plt.plot(range(tol_max),rec_SVR,'--',lw=3)\n",
    "plt.plot(range(tol_max),rec_DT,'*-',lw=3)\n",
    "plt.plot(range(tol_max),rec_RF,'o-',lw=3)\n",
    "#plt.plot(range(tol_max),rec_NN,'k-',lw=3)\n",
    "plt.legend(['SVR','Decision Tree','Random Forest'],fontsize=13)"
   ]
  },
  {
   "cell_type": "markdown",
   "id": "2159e910",
   "metadata": {},
   "source": [
    "Results:\n",
    "1. Linear Regression: Performance of Linear Regression R^2 metric 0.51\n",
    "2. MLP Regressor Model: Performance of MLP Regression Model R^2 metric 0.50639\n",
    "3. Decision Tree Regressor: R2 Score = -5.82\n",
    "4. Random Forest Regressor: R2 Score = -7.42\n",
    "5. Logistic Regression: Logistic Regression Accuracy, 95.58011%\n",
    "6. Neural Network Classifier: Neural Network Classifier Accuracy, 92.81768%\n",
    "7. Support Vector Regressor with GRIDCV: RMSE for Support Vector Regression: 0.615\n",
    "8. Decision Tree Regressor with GRIDCV: RMSE for Decision Tree: 2.68\n",
    "9. Random Forest Regressor with GRIDCV: RMSE for Random Forest: 0.56\n",
    "\n",
    "    "
   ]
  },
  {
   "cell_type": "code",
   "execution_count": null,
   "id": "76e9fafe",
   "metadata": {},
   "outputs": [],
   "source": []
  }
 ],
 "metadata": {
  "kernelspec": {
   "display_name": "Python 3",
   "language": "python",
   "name": "python3"
  },
  "language_info": {
   "codemirror_mode": {
    "name": "ipython",
    "version": 3
   },
   "file_extension": ".py",
   "mimetype": "text/x-python",
   "name": "python",
   "nbconvert_exporter": "python",
   "pygments_lexer": "ipython3",
   "version": "3.8.8"
  }
 },
 "nbformat": 4,
 "nbformat_minor": 5
}
